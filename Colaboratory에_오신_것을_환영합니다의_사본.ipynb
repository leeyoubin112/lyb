{
  "cells": [
    {
      "cell_type": "markdown",
      "source": [
        "게임"
      ],
      "metadata": {
        "id": "0Cz_ejBF8Pst"
      }
    },
    {
      "cell_type": "code",
      "source": [
        "import pandas as pd\n",
        "import numpy as np\n",
        "import seaborn as sns\n",
        "import matplotlib.pyplot as plt\n",
        "import math\n",
        "from google.colab import files\n",
        "import scipy.stats as stats\n",
        "import pandas as pd\n",
        "from statsmodels.formula.api import ols\n",
        "from statsmodels.stats.anova import anova_lm\n",
        "%matplotlib inline\n",
        "# 파일 업로드 - files.upload() -\n",
        "# 파일 읽어오기 - 파일 전처리(EDA)\n",
        "files.upload()\n",
        "df = pd.read_csv('vgames2.csv')\n",
        "\n",
        "df.drop(df.columns[0], axis = 1, inplace = True)\n",
        "df.info()\n",
        "\n",
        "df.dropna(inplace = True)\n",
        "df.reset_index(drop=True, inplace=True)"
      ],
      "metadata": {
        "id": "3rofdMOZ8-Xo",
        "colab": {
          "base_uri": "https://localhost:8080/",
          "height": 335
        },
        "outputId": "904fdc17-705a-4928-b73e-116e4876155b"
      },
      "execution_count": null,
      "outputs": [
        {
          "output_type": "display_data",
          "data": {
            "text/plain": [
              "<IPython.core.display.HTML object>"
            ],
            "text/html": [
              "\n",
              "     <input type=\"file\" id=\"files-a025dde7-ff7b-409a-8d41-636992b2e48e\" name=\"files[]\" multiple disabled\n",
              "        style=\"border:none\" />\n",
              "     <output id=\"result-a025dde7-ff7b-409a-8d41-636992b2e48e\">\n",
              "      Upload widget is only available when the cell has been executed in the\n",
              "      current browser session. Please rerun this cell to enable.\n",
              "      </output>\n",
              "      <script>// Copyright 2017 Google LLC\n",
              "//\n",
              "// Licensed under the Apache License, Version 2.0 (the \"License\");\n",
              "// you may not use this file except in compliance with the License.\n",
              "// You may obtain a copy of the License at\n",
              "//\n",
              "//      http://www.apache.org/licenses/LICENSE-2.0\n",
              "//\n",
              "// Unless required by applicable law or agreed to in writing, software\n",
              "// distributed under the License is distributed on an \"AS IS\" BASIS,\n",
              "// WITHOUT WARRANTIES OR CONDITIONS OF ANY KIND, either express or implied.\n",
              "// See the License for the specific language governing permissions and\n",
              "// limitations under the License.\n",
              "\n",
              "/**\n",
              " * @fileoverview Helpers for google.colab Python module.\n",
              " */\n",
              "(function(scope) {\n",
              "function span(text, styleAttributes = {}) {\n",
              "  const element = document.createElement('span');\n",
              "  element.textContent = text;\n",
              "  for (const key of Object.keys(styleAttributes)) {\n",
              "    element.style[key] = styleAttributes[key];\n",
              "  }\n",
              "  return element;\n",
              "}\n",
              "\n",
              "// Max number of bytes which will be uploaded at a time.\n",
              "const MAX_PAYLOAD_SIZE = 100 * 1024;\n",
              "\n",
              "function _uploadFiles(inputId, outputId) {\n",
              "  const steps = uploadFilesStep(inputId, outputId);\n",
              "  const outputElement = document.getElementById(outputId);\n",
              "  // Cache steps on the outputElement to make it available for the next call\n",
              "  // to uploadFilesContinue from Python.\n",
              "  outputElement.steps = steps;\n",
              "\n",
              "  return _uploadFilesContinue(outputId);\n",
              "}\n",
              "\n",
              "// This is roughly an async generator (not supported in the browser yet),\n",
              "// where there are multiple asynchronous steps and the Python side is going\n",
              "// to poll for completion of each step.\n",
              "// This uses a Promise to block the python side on completion of each step,\n",
              "// then passes the result of the previous step as the input to the next step.\n",
              "function _uploadFilesContinue(outputId) {\n",
              "  const outputElement = document.getElementById(outputId);\n",
              "  const steps = outputElement.steps;\n",
              "\n",
              "  const next = steps.next(outputElement.lastPromiseValue);\n",
              "  return Promise.resolve(next.value.promise).then((value) => {\n",
              "    // Cache the last promise value to make it available to the next\n",
              "    // step of the generator.\n",
              "    outputElement.lastPromiseValue = value;\n",
              "    return next.value.response;\n",
              "  });\n",
              "}\n",
              "\n",
              "/**\n",
              " * Generator function which is called between each async step of the upload\n",
              " * process.\n",
              " * @param {string} inputId Element ID of the input file picker element.\n",
              " * @param {string} outputId Element ID of the output display.\n",
              " * @return {!Iterable<!Object>} Iterable of next steps.\n",
              " */\n",
              "function* uploadFilesStep(inputId, outputId) {\n",
              "  const inputElement = document.getElementById(inputId);\n",
              "  inputElement.disabled = false;\n",
              "\n",
              "  const outputElement = document.getElementById(outputId);\n",
              "  outputElement.innerHTML = '';\n",
              "\n",
              "  const pickedPromise = new Promise((resolve) => {\n",
              "    inputElement.addEventListener('change', (e) => {\n",
              "      resolve(e.target.files);\n",
              "    });\n",
              "  });\n",
              "\n",
              "  const cancel = document.createElement('button');\n",
              "  inputElement.parentElement.appendChild(cancel);\n",
              "  cancel.textContent = 'Cancel upload';\n",
              "  const cancelPromise = new Promise((resolve) => {\n",
              "    cancel.onclick = () => {\n",
              "      resolve(null);\n",
              "    };\n",
              "  });\n",
              "\n",
              "  // Wait for the user to pick the files.\n",
              "  const files = yield {\n",
              "    promise: Promise.race([pickedPromise, cancelPromise]),\n",
              "    response: {\n",
              "      action: 'starting',\n",
              "    }\n",
              "  };\n",
              "\n",
              "  cancel.remove();\n",
              "\n",
              "  // Disable the input element since further picks are not allowed.\n",
              "  inputElement.disabled = true;\n",
              "\n",
              "  if (!files) {\n",
              "    return {\n",
              "      response: {\n",
              "        action: 'complete',\n",
              "      }\n",
              "    };\n",
              "  }\n",
              "\n",
              "  for (const file of files) {\n",
              "    const li = document.createElement('li');\n",
              "    li.append(span(file.name, {fontWeight: 'bold'}));\n",
              "    li.append(span(\n",
              "        `(${file.type || 'n/a'}) - ${file.size} bytes, ` +\n",
              "        `last modified: ${\n",
              "            file.lastModifiedDate ? file.lastModifiedDate.toLocaleDateString() :\n",
              "                                    'n/a'} - `));\n",
              "    const percent = span('0% done');\n",
              "    li.appendChild(percent);\n",
              "\n",
              "    outputElement.appendChild(li);\n",
              "\n",
              "    const fileDataPromise = new Promise((resolve) => {\n",
              "      const reader = new FileReader();\n",
              "      reader.onload = (e) => {\n",
              "        resolve(e.target.result);\n",
              "      };\n",
              "      reader.readAsArrayBuffer(file);\n",
              "    });\n",
              "    // Wait for the data to be ready.\n",
              "    let fileData = yield {\n",
              "      promise: fileDataPromise,\n",
              "      response: {\n",
              "        action: 'continue',\n",
              "      }\n",
              "    };\n",
              "\n",
              "    // Use a chunked sending to avoid message size limits. See b/62115660.\n",
              "    let position = 0;\n",
              "    do {\n",
              "      const length = Math.min(fileData.byteLength - position, MAX_PAYLOAD_SIZE);\n",
              "      const chunk = new Uint8Array(fileData, position, length);\n",
              "      position += length;\n",
              "\n",
              "      const base64 = btoa(String.fromCharCode.apply(null, chunk));\n",
              "      yield {\n",
              "        response: {\n",
              "          action: 'append',\n",
              "          file: file.name,\n",
              "          data: base64,\n",
              "        },\n",
              "      };\n",
              "\n",
              "      let percentDone = fileData.byteLength === 0 ?\n",
              "          100 :\n",
              "          Math.round((position / fileData.byteLength) * 100);\n",
              "      percent.textContent = `${percentDone}% done`;\n",
              "\n",
              "    } while (position < fileData.byteLength);\n",
              "  }\n",
              "\n",
              "  // All done.\n",
              "  yield {\n",
              "    response: {\n",
              "      action: 'complete',\n",
              "    }\n",
              "  };\n",
              "}\n",
              "\n",
              "scope.google = scope.google || {};\n",
              "scope.google.colab = scope.google.colab || {};\n",
              "scope.google.colab._files = {\n",
              "  _uploadFiles,\n",
              "  _uploadFilesContinue,\n",
              "};\n",
              "})(self);\n",
              "</script> "
            ]
          },
          "metadata": {}
        },
        {
          "output_type": "stream",
          "name": "stdout",
          "text": [
            "<class 'pandas.core.frame.DataFrame'>\n",
            "RangeIndex: 16598 entries, 0 to 16597\n",
            "Data columns (total 9 columns):\n",
            " #   Column       Non-Null Count  Dtype  \n",
            "---  ------       --------------  -----  \n",
            " 0   Name         16598 non-null  object \n",
            " 1   Platform     16598 non-null  object \n",
            " 2   Year         16327 non-null  float64\n",
            " 3   Genre        16548 non-null  object \n",
            " 4   Publisher    16540 non-null  object \n",
            " 5   NA_Sales     16598 non-null  object \n",
            " 6   EU_Sales     16598 non-null  object \n",
            " 7   JP_Sales     16598 non-null  object \n",
            " 8   Other_Sales  16598 non-null  object \n",
            "dtypes: float64(1), object(8)\n",
            "memory usage: 1.1+ MB\n"
          ]
        }
      ]
    },
    {
      "cell_type": "code",
      "source": [
        "# 결측치\n",
        "for col in df.columns:\n",
        "    asd = 'column {:<10}\\t Percent of NaN value : {:.2f}%'.format(col, 100*(df[col].isnull().sum() / len(df[col])))\n",
        "    print(asd)"
      ],
      "metadata": {
        "colab": {
          "base_uri": "https://localhost:8080/"
        },
        "id": "O1z1B-UH9Ghw",
        "outputId": "05960010-2394-4c9d-e6da-e8dfdbbae03e"
      },
      "execution_count": null,
      "outputs": [
        {
          "output_type": "stream",
          "name": "stdout",
          "text": [
            "column Name      \t Percent of NaN value : 0.00%\n",
            "column Platform  \t Percent of NaN value : 0.00%\n",
            "column Year      \t Percent of NaN value : 0.00%\n",
            "column Genre     \t Percent of NaN value : 0.00%\n",
            "column Publisher \t Percent of NaN value : 0.00%\n",
            "column NA_Sales  \t Percent of NaN value : 0.00%\n",
            "column EU_Sales  \t Percent of NaN value : 0.00%\n",
            "column JP_Sales  \t Percent of NaN value : 0.00%\n",
            "column Other_Sales\t Percent of NaN value : 0.00%\n"
          ]
        }
      ]
    },
    {
      "cell_type": "code",
      "source": [
        "# k,m 문자열 처리\n",
        "df['NA_Sales'] = df['NA_Sales'].replace({'K': '*0.001', 'M': \"\"}, regex=True).map(pd.eval)\n",
        "df['EU_Sales'] = df['EU_Sales'].replace({'K': '*0.001', 'M': \"\"}, regex=True).map(pd.eval)\n",
        "df['JP_Sales'] = df['JP_Sales'].replace({'K': '*0.001', 'M': \"\"}, regex=True).map(pd.eval)\n",
        "df['Other_Sales'] = pd.to_numeric(df['Other_Sales'].replace({'K': '*0.001', 'M': \"\"}, regex=True).map(pd.eval))\n",
        "df[\"총판매\"] = df.NA_Sales + df.EU_Sales + df.JP_Sales + df.Other_Sales"
      ],
      "metadata": {
        "id": "3yVFtNM7EKyv"
      },
      "execution_count": null,
      "outputs": []
    },
    {
      "cell_type": "code",
      "source": [
        "df.info()"
      ],
      "metadata": {
        "colab": {
          "base_uri": "https://localhost:8080/"
        },
        "id": "ttQrQ-f6Xsll",
        "outputId": "d36a4bbd-f8fd-41fe-b071-0bbfa984863e"
      },
      "execution_count": null,
      "outputs": [
        {
          "output_type": "stream",
          "name": "stdout",
          "text": [
            "<class 'pandas.core.frame.DataFrame'>\n",
            "RangeIndex: 16241 entries, 0 to 16240\n",
            "Data columns (total 11 columns):\n",
            " #   Column       Non-Null Count  Dtype  \n",
            "---  ------       --------------  -----  \n",
            " 0   Name         16241 non-null  object \n",
            " 1   Platform     16241 non-null  object \n",
            " 2   Year         16241 non-null  float64\n",
            " 3   Genre        16241 non-null  object \n",
            " 4   Publisher    16241 non-null  object \n",
            " 5   NA_Sales     16241 non-null  float64\n",
            " 6   EU_Sales     16241 non-null  float64\n",
            " 7   JP_Sales     16241 non-null  float64\n",
            " 8   Other_Sales  16241 non-null  float64\n",
            " 9   Total_Sales  16241 non-null  float64\n",
            " 10  총판매          16241 non-null  float64\n",
            "dtypes: float64(7), object(4)\n",
            "memory usage: 1.4+ MB\n"
          ]
        }
      ]
    },
    {
      "cell_type": "code",
      "source": [
        "locate_Genre_NA = df.groupby(['Genre'])['NA_Sales'].sum()\n",
        "locate_Genre_EU = df.groupby(['Genre'])['EU_Sales'].sum()\n",
        "locate_Genre_JP = df.groupby(['Genre'])['JP_Sales'].sum()\n",
        "locate_Genre_Other = df.groupby(['Genre'])['Other_Sales'].sum()\n",
        "locate_Genre = pd.DataFrame()\n",
        "locate_Genre = locate_Genre.append(locate_Genre_NA)\n",
        "locate_Genre = locate_Genre.append(locate_Genre_EU)\n",
        "locate_Genre = locate_Genre.append(locate_Genre_JP)\n",
        "locate_Genre = locate_Genre.append(locate_Genre_Other)\n",
        "locate_Genre"
      ],
      "metadata": {
        "colab": {
          "base_uri": "https://localhost:8080/",
          "height": 175
        },
        "id": "CIaS4_kBN63_",
        "outputId": "65f73657-b0ac-4c78-931f-99571c4d7483"
      },
      "execution_count": null,
      "outputs": [
        {
          "output_type": "execute_result",
          "data": {
            "text/plain": [
              "             Action  Adventure  Fighting    Misc  Platform  Puzzle  Racing  \\\n",
              "NA_Sales     858.75     101.79    220.35  394.73    445.38  121.58  354.70   \n",
              "EU_Sales     513.64      63.66     99.90  208.15    200.63   50.47  235.02   \n",
              "JP_Sales     156.60      51.87     87.14  104.18    130.53   56.24   56.32   \n",
              "Other_Sales  183.99      16.70     36.15   72.64     51.45   12.44   76.51   \n",
              "\n",
              "             Role-Playing  Shooter  Simulation  Sports  Strategy  \n",
              "NA_Sales           318.76   574.48      181.43  667.26     67.83  \n",
              "EU_Sales           183.09   310.23      112.99  370.97     44.82  \n",
              "JP_Sales           342.93    38.18       63.54  134.76     49.10  \n",
              "Other_Sales         56.73   101.86       31.32  132.35     11.23  "
            ],
            "text/html": [
              "\n",
              "  <div id=\"df-d3374b02-d9b7-45c7-aa36-99e4d5e79f21\">\n",
              "    <div class=\"colab-df-container\">\n",
              "      <div>\n",
              "<style scoped>\n",
              "    .dataframe tbody tr th:only-of-type {\n",
              "        vertical-align: middle;\n",
              "    }\n",
              "\n",
              "    .dataframe tbody tr th {\n",
              "        vertical-align: top;\n",
              "    }\n",
              "\n",
              "    .dataframe thead th {\n",
              "        text-align: right;\n",
              "    }\n",
              "</style>\n",
              "<table border=\"1\" class=\"dataframe\">\n",
              "  <thead>\n",
              "    <tr style=\"text-align: right;\">\n",
              "      <th></th>\n",
              "      <th>Action</th>\n",
              "      <th>Adventure</th>\n",
              "      <th>Fighting</th>\n",
              "      <th>Misc</th>\n",
              "      <th>Platform</th>\n",
              "      <th>Puzzle</th>\n",
              "      <th>Racing</th>\n",
              "      <th>Role-Playing</th>\n",
              "      <th>Shooter</th>\n",
              "      <th>Simulation</th>\n",
              "      <th>Sports</th>\n",
              "      <th>Strategy</th>\n",
              "    </tr>\n",
              "  </thead>\n",
              "  <tbody>\n",
              "    <tr>\n",
              "      <th>NA_Sales</th>\n",
              "      <td>858.75</td>\n",
              "      <td>101.79</td>\n",
              "      <td>220.35</td>\n",
              "      <td>394.73</td>\n",
              "      <td>445.38</td>\n",
              "      <td>121.58</td>\n",
              "      <td>354.70</td>\n",
              "      <td>318.76</td>\n",
              "      <td>574.48</td>\n",
              "      <td>181.43</td>\n",
              "      <td>667.26</td>\n",
              "      <td>67.83</td>\n",
              "    </tr>\n",
              "    <tr>\n",
              "      <th>EU_Sales</th>\n",
              "      <td>513.64</td>\n",
              "      <td>63.66</td>\n",
              "      <td>99.90</td>\n",
              "      <td>208.15</td>\n",
              "      <td>200.63</td>\n",
              "      <td>50.47</td>\n",
              "      <td>235.02</td>\n",
              "      <td>183.09</td>\n",
              "      <td>310.23</td>\n",
              "      <td>112.99</td>\n",
              "      <td>370.97</td>\n",
              "      <td>44.82</td>\n",
              "    </tr>\n",
              "    <tr>\n",
              "      <th>JP_Sales</th>\n",
              "      <td>156.60</td>\n",
              "      <td>51.87</td>\n",
              "      <td>87.14</td>\n",
              "      <td>104.18</td>\n",
              "      <td>130.53</td>\n",
              "      <td>56.24</td>\n",
              "      <td>56.32</td>\n",
              "      <td>342.93</td>\n",
              "      <td>38.18</td>\n",
              "      <td>63.54</td>\n",
              "      <td>134.76</td>\n",
              "      <td>49.10</td>\n",
              "    </tr>\n",
              "    <tr>\n",
              "      <th>Other_Sales</th>\n",
              "      <td>183.99</td>\n",
              "      <td>16.70</td>\n",
              "      <td>36.15</td>\n",
              "      <td>72.64</td>\n",
              "      <td>51.45</td>\n",
              "      <td>12.44</td>\n",
              "      <td>76.51</td>\n",
              "      <td>56.73</td>\n",
              "      <td>101.86</td>\n",
              "      <td>31.32</td>\n",
              "      <td>132.35</td>\n",
              "      <td>11.23</td>\n",
              "    </tr>\n",
              "  </tbody>\n",
              "</table>\n",
              "</div>\n",
              "      <button class=\"colab-df-convert\" onclick=\"convertToInteractive('df-d3374b02-d9b7-45c7-aa36-99e4d5e79f21')\"\n",
              "              title=\"Convert this dataframe to an interactive table.\"\n",
              "              style=\"display:none;\">\n",
              "        \n",
              "  <svg xmlns=\"http://www.w3.org/2000/svg\" height=\"24px\"viewBox=\"0 0 24 24\"\n",
              "       width=\"24px\">\n",
              "    <path d=\"M0 0h24v24H0V0z\" fill=\"none\"/>\n",
              "    <path d=\"M18.56 5.44l.94 2.06.94-2.06 2.06-.94-2.06-.94-.94-2.06-.94 2.06-2.06.94zm-11 1L8.5 8.5l.94-2.06 2.06-.94-2.06-.94L8.5 2.5l-.94 2.06-2.06.94zm10 10l.94 2.06.94-2.06 2.06-.94-2.06-.94-.94-2.06-.94 2.06-2.06.94z\"/><path d=\"M17.41 7.96l-1.37-1.37c-.4-.4-.92-.59-1.43-.59-.52 0-1.04.2-1.43.59L10.3 9.45l-7.72 7.72c-.78.78-.78 2.05 0 2.83L4 21.41c.39.39.9.59 1.41.59.51 0 1.02-.2 1.41-.59l7.78-7.78 2.81-2.81c.8-.78.8-2.07 0-2.86zM5.41 20L4 18.59l7.72-7.72 1.47 1.35L5.41 20z\"/>\n",
              "  </svg>\n",
              "      </button>\n",
              "      \n",
              "  <style>\n",
              "    .colab-df-container {\n",
              "      display:flex;\n",
              "      flex-wrap:wrap;\n",
              "      gap: 12px;\n",
              "    }\n",
              "\n",
              "    .colab-df-convert {\n",
              "      background-color: #E8F0FE;\n",
              "      border: none;\n",
              "      border-radius: 50%;\n",
              "      cursor: pointer;\n",
              "      display: none;\n",
              "      fill: #1967D2;\n",
              "      height: 32px;\n",
              "      padding: 0 0 0 0;\n",
              "      width: 32px;\n",
              "    }\n",
              "\n",
              "    .colab-df-convert:hover {\n",
              "      background-color: #E2EBFA;\n",
              "      box-shadow: 0px 1px 2px rgba(60, 64, 67, 0.3), 0px 1px 3px 1px rgba(60, 64, 67, 0.15);\n",
              "      fill: #174EA6;\n",
              "    }\n",
              "\n",
              "    [theme=dark] .colab-df-convert {\n",
              "      background-color: #3B4455;\n",
              "      fill: #D2E3FC;\n",
              "    }\n",
              "\n",
              "    [theme=dark] .colab-df-convert:hover {\n",
              "      background-color: #434B5C;\n",
              "      box-shadow: 0px 1px 3px 1px rgba(0, 0, 0, 0.15);\n",
              "      filter: drop-shadow(0px 1px 2px rgba(0, 0, 0, 0.3));\n",
              "      fill: #FFFFFF;\n",
              "    }\n",
              "  </style>\n",
              "\n",
              "      <script>\n",
              "        const buttonEl =\n",
              "          document.querySelector('#df-d3374b02-d9b7-45c7-aa36-99e4d5e79f21 button.colab-df-convert');\n",
              "        buttonEl.style.display =\n",
              "          google.colab.kernel.accessAllowed ? 'block' : 'none';\n",
              "\n",
              "        async function convertToInteractive(key) {\n",
              "          const element = document.querySelector('#df-d3374b02-d9b7-45c7-aa36-99e4d5e79f21');\n",
              "          const dataTable =\n",
              "            await google.colab.kernel.invokeFunction('convertToInteractive',\n",
              "                                                     [key], {});\n",
              "          if (!dataTable) return;\n",
              "\n",
              "          const docLinkHtml = 'Like what you see? Visit the ' +\n",
              "            '<a target=\"_blank\" href=https://colab.research.google.com/notebooks/data_table.ipynb>data table notebook</a>'\n",
              "            + ' to learn more about interactive tables.';\n",
              "          element.innerHTML = '';\n",
              "          dataTable['output_type'] = 'display_data';\n",
              "          await google.colab.output.renderOutput(dataTable, element);\n",
              "          const docLink = document.createElement('div');\n",
              "          docLink.innerHTML = docLinkHtml;\n",
              "          element.appendChild(docLink);\n",
              "        }\n",
              "      </script>\n",
              "    </div>\n",
              "  </div>\n",
              "  "
            ]
          },
          "metadata": {},
          "execution_count": 207
        }
      ]
    },
    {
      "cell_type": "code",
      "source": [
        "subset = df[df['Year']>=2000].groupby('Genre').sum().sort_values(by='Total_Sales', ascending=False)\n",
        "genre_order =  subset.index.to_list()\n",
        "subset = subset.reset_index()\n",
        "\n",
        "plt.figure(figsize = (12,8))\n",
        "ax = plt.gca()\n",
        "sns.barplot(x=\"Genre\", y=\"Total_Sales\", order = genre_order, data=subset)\n",
        "ax.set_ylabel(\"Global Sales (Million)\")\n",
        "plt.title('Game global sales  (2000s ~)', fontsize = 10)\n",
        "plt.show()"
      ],
      "metadata": {
        "colab": {
          "base_uri": "https://localhost:8080/",
          "height": 510
        },
        "id": "b4euwu4cN6d8",
        "outputId": "46960fa8-1ae3-4058-aa57-76eb80d5e6ee"
      },
      "execution_count": null,
      "outputs": [
        {
          "output_type": "display_data",
          "data": {
            "text/plain": [
              "<Figure size 864x576 with 1 Axes>"
            ],
            "image/png": "[encoded data removed]"
          },
          "metadata": {
            "needs_background": "light"
          }
        }
      ]
    },
    {
      "cell_type": "code",
      "source": [
        "df['Platform'].value_counts()"
      ],
      "metadata": {
        "id": "tJDS15ipXs_l"
      },
      "execution_count": null,
      "outputs": []
    },
    {
      "cell_type": "code",
      "source": [
        "df[\"Platform_Groups\"] = np.where(df.Platform == \"PC\", \"PC\", \\\n",
        "                                 np.where((df.Platform == \"3DS\") | (df.Platform == \"DS\") | (df.Platform == \"GB\") | \\\n",
        "                                          (df.Platform == \"GBA\") | (df.Platform == \"GG\") | (df.Platform == \"PSP\") |  \\\n",
        "                                          (df.Platform == \"PSV\") | (df.Platform == \"WS\"), \"Portable\", \"Console\"))\n",
        "\n",
        "df['Platform_Groups'].head()"
      ],
      "metadata": {
        "id": "VC9GrM5KE1iT"
      },
      "execution_count": null,
      "outputs": []
    },
    {
      "cell_type": "code",
      "source": [
        "x = np.arange(3)\n",
        "y = ['Portable', 'Console', 'PC']\n",
        "values = [\"Portable\", \"console\", \"PC\"]\n",
        "\n",
        "plt.bar(x, values)\n",
        "plt.xticks(x, years)\n",
        "\n",
        "plt.show()"
      ],
      "metadata": {
        "colab": {
          "base_uri": "https://localhost:8080/",
          "height": 262
        },
        "id": "rCfwBFQVHKAf",
        "outputId": "f9dbf3eb-299f-418b-add4-4386ab76acdc"
      },
      "execution_count": null,
      "outputs": [
        {
          "output_type": "display_data",
          "data": {
            "text/plain": [
              "<Figure size 432x288 with 1 Axes>"
            ],
            "image/png": "[encoded data removed]"
          },
          "metadata": {
            "needs_background": "light"
          }
        }
      ]
    },
    {
      "cell_type": "code",
      "source": [
        "f, ax = plt.subplots(1,1, figsize=(8, 8))\n",
        "sns.barplot(x = 'Platform_Groups', y='총판매', data= df[df['Year']>=2000])\n",
        "ax.set_ylabel('total_sale (Million)')\n",
        "plt.xticks(fontsize=12)"
      ],
      "metadata": {
        "colab": {
          "base_uri": "https://localhost:8080/",
          "height": 517
        },
        "id": "mJtuyXNgFBXm",
        "outputId": "fcf5567c-b688-43ca-e641-5ff8c35a8248"
      },
      "execution_count": null,
      "outputs": [
        {
          "output_type": "execute_result",
          "data": {
            "text/plain": [
              "(array([0, 1, 2]), <a list of 3 Text major ticklabel objects>)"
            ]
          },
          "metadata": {},
          "execution_count": 203
        },
        {
          "output_type": "display_data",
          "data": {
            "text/plain": [
              "<Figure size 576x576 with 1 Axes>"
            ],
            "image/png": "[encoded data removed]"
          },
          "metadata": {
            "needs_background": "light"
          }
        }
      ]
    },
    {
      "cell_type": "code",
      "source": [
        "#버리는 코드 모음\n",
        "df.rename(columns={'NA_Sales':'미국 판매율'}, inplace= True)\n",
        "df.rename(columns={'EU_Sales':'유럽 판매율'}, inplace= True)\n",
        "df.rename(columns={'JP_Sales':'일본 판매율'}, inplace= True)\n",
        "df.rename(columns={'Other_Sales':'다른지역 판매율'}, inplace= True)\n"
      ],
      "metadata": {
        "id": "P1eMp2pR-7a3"
      },
      "execution_count": null,
      "outputs": []
    },
    {
      "cell_type": "code",
      "source": [
        "df.dtypes\n"
      ],
      "metadata": {
        "colab": {
          "base_uri": "https://localhost:8080/"
        },
        "id": "U6O7KqzCXtQA",
        "outputId": "3602fca3-e7c2-4a9d-bc11-5aa41403b651"
      },
      "execution_count": null,
      "outputs": [
        {
          "output_type": "execute_result",
          "data": {
            "text/plain": [
              "Name            object\n",
              "Platform        object\n",
              "Year           float64\n",
              "Genre           object\n",
              "Publisher       object\n",
              "NA_Sales        object\n",
              "EU_Sales        object\n",
              "JP_Sales        object\n",
              "Other_Sales     object\n",
              "dtype: object"
            ]
          },
          "metadata": {},
          "execution_count": 145
        }
      ]
    },
    {
      "cell_type": "code",
      "source": [
        "# 판매량의 K와 M 문자열 처리\n",
        "df['NA_Sales'] = df['NA_Sales'].replace({'K': '*0.001', 'M': \"\"}, regex=True).map(pd.eval)\n",
        "df['EU_Sales'] = df['EU_Sales'].replace({'K': '*0.001', 'M': \"\"}, regex=True).map(pd.eval)\n",
        "df['JP_Sales'] = df['JP_Sales'].replace({'K': '*0.001', 'M': \"\"}, regex=True).map(pd.eval)\n",
        "df['Other_Sales'] = pd.to_numeric(df['Other_Sales'].replace({'K': '*0.001', 'M': \"\"}, regex=True).map(pd.eval))"
      ],
      "metadata": {
        "id": "K8_l5RZjXtkL"
      },
      "execution_count": null,
      "outputs": []
    },
    {
      "cell_type": "code",
      "source": [
        "# 전세계 판매량을 반영하기 위해, 새로운 feature 생성\n",
        "df[\"Total_Sales\"] = df.NA_Sales + df.EU_Sales + df.JP_Sales + df.Other_Sales"
      ],
      "metadata": {
        "id": "HEAHHdHoXuAX"
      },
      "execution_count": null,
      "outputs": []
    },
    {
      "cell_type": "code",
      "source": [
        "df.info()"
      ],
      "metadata": {
        "colab": {
          "base_uri": "https://localhost:8080/"
        },
        "id": "uMzAyi7xX78v",
        "outputId": "7947aca6-d287-4496-e55d-f0c20960f553"
      },
      "execution_count": null,
      "outputs": [
        {
          "output_type": "stream",
          "name": "stdout",
          "text": [
            "<class 'pandas.core.frame.DataFrame'>\n",
            "RangeIndex: 16241 entries, 0 to 16240\n",
            "Data columns (total 10 columns):\n",
            " #   Column       Non-Null Count  Dtype  \n",
            "---  ------       --------------  -----  \n",
            " 0   Name         16241 non-null  object \n",
            " 1   Platform     16241 non-null  object \n",
            " 2   Year         16241 non-null  float64\n",
            " 3   Genre        16241 non-null  object \n",
            " 4   Publisher    16241 non-null  object \n",
            " 5   NA_Sales     16241 non-null  object \n",
            " 6   EU_Sales     16241 non-null  object \n",
            " 7   JP_Sales     16241 non-null  object \n",
            " 8   Other_Sales  16241 non-null  object \n",
            " 9   Total_Sales  16241 non-null  object \n",
            "dtypes: float64(1), object(9)\n",
            "memory usage: 1.2+ MB\n"
          ]
        }
      ]
    },
    {
      "cell_type": "code",
      "source": [
        "df['Platform'].value_counts()"
      ],
      "metadata": {
        "colab": {
          "base_uri": "https://localhost:8080/"
        },
        "id": "LIYf8S53X8LT",
        "outputId": "ae38df9c-0a02-4472-dbeb-a6ccf06923d1"
      },
      "execution_count": null,
      "outputs": [
        {
          "output_type": "execute_result",
          "data": {
            "text/plain": [
              "DS      2127\n",
              "PS2     2121\n",
              "PS3     1299\n",
              "Wii     1284\n",
              "X360    1231\n",
              "PSP     1193\n",
              "PS      1185\n",
              "PC       935\n",
              "XB       799\n",
              "GBA      784\n",
              "GC       541\n",
              "3DS      498\n",
              "PSV      409\n",
              "PS4      335\n",
              "N64      313\n",
              "SNES     239\n",
              "XOne     212\n",
              "SAT      173\n",
              "WiiU     143\n",
              "2600     115\n",
              "NES       98\n",
              "GB        97\n",
              "DC        52\n",
              "GEN       27\n",
              "NG        12\n",
              "SCD        6\n",
              "WS         6\n",
              "3DO        3\n",
              "TG16       2\n",
              "GG         1\n",
              "PCFX       1\n",
              "Name: Platform, dtype: int64"
            ]
          },
          "metadata": {},
          "execution_count": 148
        }
      ]
    },
    {
      "cell_type": "code",
      "source": [
        "df[\"Platform_Groups\"] = np.where(df.Platform == \"PC\", \"PC\", \n",
        "                                 np.where((df.Platform == \"3DS\") | (df.Platform == \"DS\") | (df.Platform == \"GB\") | \n",
        "                                          (df.Platform == \"GBA\") | (df.Platform == \"GG\") | (df.Platform == \"PSP\") |  \n",
        "                                          (df.Platform == \"PSV\") | (df.Platform == \"WS\"), \"Portable\", \"Console\"))\n",
        "\n",
        "df['Platform_Groups'].head()"
      ],
      "metadata": {
        "colab": {
          "base_uri": "https://localhost:8080/"
        },
        "id": "Qi-UJQ3sX8aU",
        "outputId": "413e6dd1-7a3d-4ff6-843c-611d984ac931"
      },
      "execution_count": null,
      "outputs": [
        {
          "output_type": "execute_result",
          "data": {
            "text/plain": [
              "0    Portable\n",
              "1     Console\n",
              "2    Portable\n",
              "3    Portable\n",
              "4     Console\n",
              "Name: Platform_Groups, dtype: object"
            ]
          },
          "metadata": {},
          "execution_count": 154
        }
      ]
    },
    {
      "cell_type": "code",
      "source": [
        "# 지역에 따라서 선호하는 게임 장르가 다를까\n",
        "\n",
        "NA = df.groupby(['Genre'])['NA_Sales'].sum()\n",
        "EU = df.groupby(['Genre'])['EU_Sales'].sum()\n",
        "JP = df.groupby(['Genre'])['JP_Sales'].sum()\n",
        "Other = df.groupby(['Genre'])['Other_Sales'].sum()\n",
        "locate_Genre = pd.DataFrame()\n",
        "locate_Genre = locate_Genre.append(NA)\n",
        "locate_Genre = locate_Genre.append(EU)\n",
        "locate_Genre = locate_Genre.append(JP)\n",
        "locate_Genre = locate_Genre.append(Other)\n",
        "locate_Genre = locate_Genre.T\n",
        "\n",
        "locate_Genre"
      ],
      "metadata": {
        "colab": {
          "base_uri": "https://localhost:8080/",
          "height": 470
        },
        "id": "Ydd4Ls4XBdUW",
        "outputId": "21a8edad-b204-4b21-93e5-a235d61f34f0"
      },
      "execution_count": null,
      "outputs": [
        {
          "output_type": "execute_result",
          "data": {
            "text/plain": [
              "                                                       NA_Sales  \\\n",
              "Action        0.040.170.070.040.140.190.11060K0.130.180.080....   \n",
              "Adventure     000.330.080.050.180000.19000.170.0100000.120.3...   \n",
              "Fighting      0.4800.131.98000.190.010.0700.010.020.060000.2...   \n",
              "Misc          0.040.0500.050.2500.040.050.210.04000.4300.080...   \n",
              "Platform      0.120.570.0200.2900.5200.350.190.220.170.0200....   \n",
              "Puzzle        0.020.180.10.040.100.040.180.280.260.07000.040...   \n",
              "Racing        480K0.030.140.260.140000.040.130.350K0.031.230...   \n",
              "Role-Playing  000.020.30.130000.04000.50.94000.2000.01000.03...   \n",
              "Shooter       00.120.510.250.010.080.070.070.360.045.9100.02...   \n",
              "Simulation    0.020.140.060.340.070.020.160.630.020.030.0600...   \n",
              "Sports        000.0800.1800.060.410.020.080.590.060.191.190....   \n",
              "Strategy      0.0100.300.220.010000000.0100000.040.140.060.0...   \n",
              "\n",
              "                                                       EU_Sales  \\\n",
              "Action        0000.030.160.20.0100.080.0200.0400.010.060.030...   \n",
              "Adventure     000.050.140.040000.020.41000.060.0400.03000.05...   \n",
              "Fighting      0.5300.030.550K00.1300.010.050.01000000.060.02...   \n",
              "Misc          00000.0700.010.0200.010.010000.02003.150.050.0...   \n",
              "Platform      0.090.450.0100.2200.0600.240.050.1500000000.01...   \n",
              "Puzzle        000000.010.010.120.0100000.010.085.36000.2100....   \n",
              "Racing        0.33M0.020.10.010.090.0400.040.030.020.430.020...   \n",
              "Role-Playing  0.02000.20.1000.030000.630.35000.140000.0300.0...   \n",
              "Shooter       0.230.010.330.1700.070.020.020.210.032.381.120...   \n",
              "Simulation    0.010.050.040.260.050.010.020.050.240.01000000...   \n",
              "Sports        000.020.010.0500.050.110.0200.160.020.050.070....   \n",
              "Strategy      0.020.020.03M0.020.050.120000000000.0400.030.0...   \n",
              "\n",
              "                                                       JP_Sales  \\\n",
              "Action        000.1100000.050.160000000000000.080.02000.0400...   \n",
              "Adventure     0.020.040.250000.120.02000.020.02000.0200.030....   \n",
              "Fighting      0.010.37000.010.4600000000.210.040.06000.010.0...   \n",
              "Misc          000.01000.03000.02000.0600.0400.020.05000.1600...   \n",
              "Platform      0000.0800.070.410.51000K000.1700.150.020.14000...   \n",
              "Puzzle        00.850000000.030.3100.570.62005.321.07000.1600...   \n",
              "Racing        0K000000.01000000000000.0300000.0700000.020.01...   \n",
              "Role-Playing  00.020.030.30.040.891.17000.030.04001.250.154....   \n",
              "Shooter       00.020.010.01000K00.0100.1300000000.010.050000...   \n",
              "Simulation    00000.1300.53000.0100.0600.280000.03000.75000....   \n",
              "Sports        0.140.030000.1200000000.0500.010.17000.180.130...   \n",
              "Strategy      000.040000.140.130.010.60.080.3400.020.0100.03...   \n",
              "\n",
              "                                                    Other_Sales  \n",
              "Action        00.010.010.010.060.050.0100.030.020.010.010.01...  \n",
              "Adventure     000.040.050.020.010000.220000.0100000.020.0400...  \n",
              "Fighting      0.23000.3200.030.0200.0100000.010.0300.010.080...  \n",
              "Misc          00000.030000.020000.0300001.0700.010.010.020.0...  \n",
              "Platform      0.040.15000.0800.0500.040.010.030.0100000.0100...  \n",
              "Puzzle        000.0100.01000.020.020.020.010000.041.180.0700...  \n",
              "Racing        0.0600.0200.020.0100.0100.010.07000.340.010.01...  \n",
              "Role-Playing  0000.060.020000000.10.02000.020000.010.01M0.01...  \n",
              "Shooter       0.060.010.080.050M0.010.0200.060.010.90.0300.0...  \n",
              "Simulation    000.010.10.0200.010.060.05000M10K00.010.010.03...  \n",
              "Sports        00000.0100.020.040.010.010.0100.010.20.01000.0...  \n",
              "Strategy      0.0100.030.0100.030.01000000000.0100.010.0200K...  "
            ],
            "text/html": [
              "\n",
              "  <div id=\"df-d232b035-7ad0-4385-b241-fdac035dd734\">\n",
              "    <div class=\"colab-df-container\">\n",
              "      <div>\n",
              "<style scoped>\n",
              "    .dataframe tbody tr th:only-of-type {\n",
              "        vertical-align: middle;\n",
              "    }\n",
              "\n",
              "    .dataframe tbody tr th {\n",
              "        vertical-align: top;\n",
              "    }\n",
              "\n",
              "    .dataframe thead th {\n",
              "        text-align: right;\n",
              "    }\n",
              "</style>\n",
              "<table border=\"1\" class=\"dataframe\">\n",
              "  <thead>\n",
              "    <tr style=\"text-align: right;\">\n",
              "      <th></th>\n",
              "      <th>NA_Sales</th>\n",
              "      <th>EU_Sales</th>\n",
              "      <th>JP_Sales</th>\n",
              "      <th>Other_Sales</th>\n",
              "    </tr>\n",
              "  </thead>\n",
              "  <tbody>\n",
              "    <tr>\n",
              "      <th>Action</th>\n",
              "      <td>0.040.170.070.040.140.190.11060K0.130.180.080....</td>\n",
              "      <td>0000.030.160.20.0100.080.0200.0400.010.060.030...</td>\n",
              "      <td>000.1100000.050.160000000000000.080.02000.0400...</td>\n",
              "      <td>00.010.010.010.060.050.0100.030.020.010.010.01...</td>\n",
              "    </tr>\n",
              "    <tr>\n",
              "      <th>Adventure</th>\n",
              "      <td>000.330.080.050.180000.19000.170.0100000.120.3...</td>\n",
              "      <td>000.050.140.040000.020.41000.060.0400.03000.05...</td>\n",
              "      <td>0.020.040.250000.120.02000.020.02000.0200.030....</td>\n",
              "      <td>000.040.050.020.010000.220000.0100000.020.0400...</td>\n",
              "    </tr>\n",
              "    <tr>\n",
              "      <th>Fighting</th>\n",
              "      <td>0.4800.131.98000.190.010.0700.010.020.060000.2...</td>\n",
              "      <td>0.5300.030.550K00.1300.010.050.01000000.060.02...</td>\n",
              "      <td>0.010.37000.010.4600000000.210.040.06000.010.0...</td>\n",
              "      <td>0.23000.3200.030.0200.0100000.010.0300.010.080...</td>\n",
              "    </tr>\n",
              "    <tr>\n",
              "      <th>Misc</th>\n",
              "      <td>0.040.0500.050.2500.040.050.210.04000.4300.080...</td>\n",
              "      <td>00000.0700.010.0200.010.010000.02003.150.050.0...</td>\n",
              "      <td>000.01000.03000.02000.0600.0400.020.05000.1600...</td>\n",
              "      <td>00000.030000.020000.0300001.0700.010.010.020.0...</td>\n",
              "    </tr>\n",
              "    <tr>\n",
              "      <th>Platform</th>\n",
              "      <td>0.120.570.0200.2900.5200.350.190.220.170.0200....</td>\n",
              "      <td>0.090.450.0100.2200.0600.240.050.1500000000.01...</td>\n",
              "      <td>0000.0800.070.410.51000K000.1700.150.020.14000...</td>\n",
              "      <td>0.040.15000.0800.0500.040.010.030.0100000.0100...</td>\n",
              "    </tr>\n",
              "    <tr>\n",
              "      <th>Puzzle</th>\n",
              "      <td>0.020.180.10.040.100.040.180.280.260.07000.040...</td>\n",
              "      <td>000000.010.010.120.0100000.010.085.36000.2100....</td>\n",
              "      <td>00.850000000.030.3100.570.62005.321.07000.1600...</td>\n",
              "      <td>000.0100.01000.020.020.020.010000.041.180.0700...</td>\n",
              "    </tr>\n",
              "    <tr>\n",
              "      <th>Racing</th>\n",
              "      <td>480K0.030.140.260.140000.040.130.350K0.031.230...</td>\n",
              "      <td>0.33M0.020.10.010.090.0400.040.030.020.430.020...</td>\n",
              "      <td>0K000000.01000000000000.0300000.0700000.020.01...</td>\n",
              "      <td>0.0600.0200.020.0100.0100.010.07000.340.010.01...</td>\n",
              "    </tr>\n",
              "    <tr>\n",
              "      <th>Role-Playing</th>\n",
              "      <td>000.020.30.130000.04000.50.94000.2000.01000.03...</td>\n",
              "      <td>0.02000.20.1000.030000.630.35000.140000.0300.0...</td>\n",
              "      <td>00.020.030.30.040.891.17000.030.04001.250.154....</td>\n",
              "      <td>0000.060.020000000.10.02000.020000.010.01M0.01...</td>\n",
              "    </tr>\n",
              "    <tr>\n",
              "      <th>Shooter</th>\n",
              "      <td>00.120.510.250.010.080.070.070.360.045.9100.02...</td>\n",
              "      <td>0.230.010.330.1700.070.020.020.210.032.381.120...</td>\n",
              "      <td>00.020.010.01000K00.0100.1300000000.010.050000...</td>\n",
              "      <td>0.060.010.080.050M0.010.0200.060.010.90.0300.0...</td>\n",
              "    </tr>\n",
              "    <tr>\n",
              "      <th>Simulation</th>\n",
              "      <td>0.020.140.060.340.070.020.160.630.020.030.0600...</td>\n",
              "      <td>0.010.050.040.260.050.010.020.050.240.01000000...</td>\n",
              "      <td>00000.1300.53000.0100.0600.280000.03000.75000....</td>\n",
              "      <td>000.010.10.0200.010.060.05000M10K00.010.010.03...</td>\n",
              "    </tr>\n",
              "    <tr>\n",
              "      <th>Sports</th>\n",
              "      <td>000.0800.1800.060.410.020.080.590.060.191.190....</td>\n",
              "      <td>000.020.010.0500.050.110.0200.160.020.050.070....</td>\n",
              "      <td>0.140.030000.1200000000.0500.010.17000.180.130...</td>\n",
              "      <td>00000.0100.020.040.010.010.0100.010.20.01000.0...</td>\n",
              "    </tr>\n",
              "    <tr>\n",
              "      <th>Strategy</th>\n",
              "      <td>0.0100.300.220.010000000.0100000.040.140.060.0...</td>\n",
              "      <td>0.020.020.03M0.020.050.120000000000.0400.030.0...</td>\n",
              "      <td>000.040000.140.130.010.60.080.3400.020.0100.03...</td>\n",
              "      <td>0.0100.030.0100.030.01000000000.0100.010.0200K...</td>\n",
              "    </tr>\n",
              "  </tbody>\n",
              "</table>\n",
              "</div>\n",
              "      <button class=\"colab-df-convert\" onclick=\"convertToInteractive('df-d232b035-7ad0-4385-b241-fdac035dd734')\"\n",
              "              title=\"Convert this dataframe to an interactive table.\"\n",
              "              style=\"display:none;\">\n",
              "        \n",
              "  <svg xmlns=\"http://www.w3.org/2000/svg\" height=\"24px\"viewBox=\"0 0 24 24\"\n",
              "       width=\"24px\">\n",
              "    <path d=\"M0 0h24v24H0V0z\" fill=\"none\"/>\n",
              "    <path d=\"M18.56 5.44l.94 2.06.94-2.06 2.06-.94-2.06-.94-.94-2.06-.94 2.06-2.06.94zm-11 1L8.5 8.5l.94-2.06 2.06-.94-2.06-.94L8.5 2.5l-.94 2.06-2.06.94zm10 10l.94 2.06.94-2.06 2.06-.94-2.06-.94-.94-2.06-.94 2.06-2.06.94z\"/><path d=\"M17.41 7.96l-1.37-1.37c-.4-.4-.92-.59-1.43-.59-.52 0-1.04.2-1.43.59L10.3 9.45l-7.72 7.72c-.78.78-.78 2.05 0 2.83L4 21.41c.39.39.9.59 1.41.59.51 0 1.02-.2 1.41-.59l7.78-7.78 2.81-2.81c.8-.78.8-2.07 0-2.86zM5.41 20L4 18.59l7.72-7.72 1.47 1.35L5.41 20z\"/>\n",
              "  </svg>\n",
              "      </button>\n",
              "      \n",
              "  <style>\n",
              "    .colab-df-container {\n",
              "      display:flex;\n",
              "      flex-wrap:wrap;\n",
              "      gap: 12px;\n",
              "    }\n",
              "\n",
              "    .colab-df-convert {\n",
              "      background-color: #E8F0FE;\n",
              "      border: none;\n",
              "      border-radius: 50%;\n",
              "      cursor: pointer;\n",
              "      display: none;\n",
              "      fill: #1967D2;\n",
              "      height: 32px;\n",
              "      padding: 0 0 0 0;\n",
              "      width: 32px;\n",
              "    }\n",
              "\n",
              "    .colab-df-convert:hover {\n",
              "      background-color: #E2EBFA;\n",
              "      box-shadow: 0px 1px 2px rgba(60, 64, 67, 0.3), 0px 1px 3px 1px rgba(60, 64, 67, 0.15);\n",
              "      fill: #174EA6;\n",
              "    }\n",
              "\n",
              "    [theme=dark] .colab-df-convert {\n",
              "      background-color: #3B4455;\n",
              "      fill: #D2E3FC;\n",
              "    }\n",
              "\n",
              "    [theme=dark] .colab-df-convert:hover {\n",
              "      background-color: #434B5C;\n",
              "      box-shadow: 0px 1px 3px 1px rgba(0, 0, 0, 0.15);\n",
              "      filter: drop-shadow(0px 1px 2px rgba(0, 0, 0, 0.3));\n",
              "      fill: #FFFFFF;\n",
              "    }\n",
              "  </style>\n",
              "\n",
              "      <script>\n",
              "        const buttonEl =\n",
              "          document.querySelector('#df-d232b035-7ad0-4385-b241-fdac035dd734 button.colab-df-convert');\n",
              "        buttonEl.style.display =\n",
              "          google.colab.kernel.accessAllowed ? 'block' : 'none';\n",
              "\n",
              "        async function convertToInteractive(key) {\n",
              "          const element = document.querySelector('#df-d232b035-7ad0-4385-b241-fdac035dd734');\n",
              "          const dataTable =\n",
              "            await google.colab.kernel.invokeFunction('convertToInteractive',\n",
              "                                                     [key], {});\n",
              "          if (!dataTable) return;\n",
              "\n",
              "          const docLinkHtml = 'Like what you see? Visit the ' +\n",
              "            '<a target=\"_blank\" href=https://colab.research.google.com/notebooks/data_table.ipynb>data table notebook</a>'\n",
              "            + ' to learn more about interactive tables.';\n",
              "          element.innerHTML = '';\n",
              "          dataTable['output_type'] = 'display_data';\n",
              "          await google.colab.output.renderOutput(dataTable, element);\n",
              "          const docLink = document.createElement('div');\n",
              "          docLink.innerHTML = docLinkHtml;\n",
              "          element.appendChild(docLink);\n",
              "        }\n",
              "      </script>\n",
              "    </div>\n",
              "  </div>\n",
              "  "
            ]
          },
          "metadata": {},
          "execution_count": 150
        }
      ]
    },
    {
      "cell_type": "code",
      "source": [
        "import matplotlib.pyplot as plt\n",
        "import seaborn as sns\n",
        "\n",
        "plt.figure(figsize=(10, 10))\n",
        "locate_heatmap = sns.heatmap(locate_Genre, annot=True, fmt='.2f')\n",
        "plt.show()"
      ],
      "metadata": {
        "colab": {
          "base_uri": "https://localhost:8080/",
          "height": 438
        },
        "id": "ELTL6T_EB1Pz",
        "outputId": "487e430a-0279-4b54-f474-7377f7141be3"
      },
      "execution_count": null,
      "outputs": [
        {
          "output_type": "error",
          "ename": "ValueError",
          "evalue": "ignored",
          "traceback": [
            "\u001b[0;31m---------------------------------------------------------------------------\u001b[0m",
            "\u001b[0;31mValueError\u001b[0m                                Traceback (most recent call last)",
            "\u001b[0;32m<ipython-input-151-c42ad399ed5b>\u001b[0m in \u001b[0;36m<module>\u001b[0;34m\u001b[0m\n\u001b[1;32m      3\u001b[0m \u001b[0;34m\u001b[0m\u001b[0m\n\u001b[1;32m      4\u001b[0m \u001b[0mplt\u001b[0m\u001b[0;34m.\u001b[0m\u001b[0mfigure\u001b[0m\u001b[0;34m(\u001b[0m\u001b[0mfigsize\u001b[0m\u001b[0;34m=\u001b[0m\u001b[0;34m(\u001b[0m\u001b[0;36m10\u001b[0m\u001b[0;34m,\u001b[0m \u001b[0;36m10\u001b[0m\u001b[0;34m)\u001b[0m\u001b[0;34m)\u001b[0m\u001b[0;34m\u001b[0m\u001b[0;34m\u001b[0m\u001b[0m\n\u001b[0;32m----> 5\u001b[0;31m \u001b[0mlocate_heatmap\u001b[0m \u001b[0;34m=\u001b[0m \u001b[0msns\u001b[0m\u001b[0;34m.\u001b[0m\u001b[0mheatmap\u001b[0m\u001b[0;34m(\u001b[0m\u001b[0mlocate_Genre\u001b[0m\u001b[0;34m,\u001b[0m \u001b[0mannot\u001b[0m\u001b[0;34m=\u001b[0m\u001b[0;32mTrue\u001b[0m\u001b[0;34m,\u001b[0m \u001b[0mfmt\u001b[0m\u001b[0;34m=\u001b[0m\u001b[0;34m'.2f'\u001b[0m\u001b[0;34m)\u001b[0m\u001b[0;34m\u001b[0m\u001b[0;34m\u001b[0m\u001b[0m\n\u001b[0m\u001b[1;32m      6\u001b[0m \u001b[0mplt\u001b[0m\u001b[0;34m.\u001b[0m\u001b[0mshow\u001b[0m\u001b[0;34m(\u001b[0m\u001b[0;34m)\u001b[0m\u001b[0;34m\u001b[0m\u001b[0;34m\u001b[0m\u001b[0m\n",
            "\u001b[0;32m/usr/local/lib/python3.7/dist-packages/seaborn/_decorators.py\u001b[0m in \u001b[0;36minner_f\u001b[0;34m(*args, **kwargs)\u001b[0m\n\u001b[1;32m     44\u001b[0m             )\n\u001b[1;32m     45\u001b[0m         \u001b[0mkwargs\u001b[0m\u001b[0;34m.\u001b[0m\u001b[0mupdate\u001b[0m\u001b[0;34m(\u001b[0m\u001b[0;34m{\u001b[0m\u001b[0mk\u001b[0m\u001b[0;34m:\u001b[0m \u001b[0marg\u001b[0m \u001b[0;32mfor\u001b[0m \u001b[0mk\u001b[0m\u001b[0;34m,\u001b[0m \u001b[0marg\u001b[0m \u001b[0;32min\u001b[0m \u001b[0mzip\u001b[0m\u001b[0;34m(\u001b[0m\u001b[0msig\u001b[0m\u001b[0;34m.\u001b[0m\u001b[0mparameters\u001b[0m\u001b[0;34m,\u001b[0m \u001b[0margs\u001b[0m\u001b[0;34m)\u001b[0m\u001b[0;34m}\u001b[0m\u001b[0;34m)\u001b[0m\u001b[0;34m\u001b[0m\u001b[0;34m\u001b[0m\u001b[0m\n\u001b[0;32m---> 46\u001b[0;31m         \u001b[0;32mreturn\u001b[0m \u001b[0mf\u001b[0m\u001b[0;34m(\u001b[0m\u001b[0;34m**\u001b[0m\u001b[0mkwargs\u001b[0m\u001b[0;34m)\u001b[0m\u001b[0;34m\u001b[0m\u001b[0;34m\u001b[0m\u001b[0m\n\u001b[0m\u001b[1;32m     47\u001b[0m     \u001b[0;32mreturn\u001b[0m \u001b[0minner_f\u001b[0m\u001b[0;34m\u001b[0m\u001b[0;34m\u001b[0m\u001b[0m\n\u001b[1;32m     48\u001b[0m \u001b[0;34m\u001b[0m\u001b[0m\n",
            "\u001b[0;32m/usr/local/lib/python3.7/dist-packages/seaborn/matrix.py\u001b[0m in \u001b[0;36mheatmap\u001b[0;34m(data, vmin, vmax, cmap, center, robust, annot, fmt, annot_kws, linewidths, linecolor, cbar, cbar_kws, cbar_ax, square, xticklabels, yticklabels, mask, ax, **kwargs)\u001b[0m\n\u001b[1;32m    540\u001b[0m     plotter = _HeatMapper(data, vmin, vmax, cmap, center, robust, annot, fmt,\n\u001b[1;32m    541\u001b[0m                           \u001b[0mannot_kws\u001b[0m\u001b[0;34m,\u001b[0m \u001b[0mcbar\u001b[0m\u001b[0;34m,\u001b[0m \u001b[0mcbar_kws\u001b[0m\u001b[0;34m,\u001b[0m \u001b[0mxticklabels\u001b[0m\u001b[0;34m,\u001b[0m\u001b[0;34m\u001b[0m\u001b[0;34m\u001b[0m\u001b[0m\n\u001b[0;32m--> 542\u001b[0;31m                           yticklabels, mask)\n\u001b[0m\u001b[1;32m    543\u001b[0m \u001b[0;34m\u001b[0m\u001b[0m\n\u001b[1;32m    544\u001b[0m     \u001b[0;31m# Add the pcolormesh kwargs here\u001b[0m\u001b[0;34m\u001b[0m\u001b[0;34m\u001b[0m\u001b[0;34m\u001b[0m\u001b[0m\n",
            "\u001b[0;32m/usr/local/lib/python3.7/dist-packages/seaborn/matrix.py\u001b[0m in \u001b[0;36m__init__\u001b[0;34m(self, data, vmin, vmax, cmap, center, robust, annot, fmt, annot_kws, cbar, cbar_kws, xticklabels, yticklabels, mask)\u001b[0m\n\u001b[1;32m    158\u001b[0m         \u001b[0;31m# Determine good default values for the colormapping\u001b[0m\u001b[0;34m\u001b[0m\u001b[0;34m\u001b[0m\u001b[0;34m\u001b[0m\u001b[0m\n\u001b[1;32m    159\u001b[0m         self._determine_cmap_params(plot_data, vmin, vmax,\n\u001b[0;32m--> 160\u001b[0;31m                                     cmap, center, robust)\n\u001b[0m\u001b[1;32m    161\u001b[0m \u001b[0;34m\u001b[0m\u001b[0m\n\u001b[1;32m    162\u001b[0m         \u001b[0;31m# Sort out the annotations\u001b[0m\u001b[0;34m\u001b[0m\u001b[0;34m\u001b[0m\u001b[0;34m\u001b[0m\u001b[0m\n",
            "\u001b[0;32m/usr/local/lib/python3.7/dist-packages/seaborn/matrix.py\u001b[0m in \u001b[0;36m_determine_cmap_params\u001b[0;34m(self, plot_data, vmin, vmax, cmap, center, robust)\u001b[0m\n\u001b[1;32m    191\u001b[0m \u001b[0;34m\u001b[0m\u001b[0m\n\u001b[1;32m    192\u001b[0m         \u001b[0;31m# plot_data is a np.ma.array instance\u001b[0m\u001b[0;34m\u001b[0m\u001b[0;34m\u001b[0m\u001b[0;34m\u001b[0m\u001b[0m\n\u001b[0;32m--> 193\u001b[0;31m         \u001b[0mcalc_data\u001b[0m \u001b[0;34m=\u001b[0m \u001b[0mplot_data\u001b[0m\u001b[0;34m.\u001b[0m\u001b[0mastype\u001b[0m\u001b[0;34m(\u001b[0m\u001b[0mfloat\u001b[0m\u001b[0;34m)\u001b[0m\u001b[0;34m.\u001b[0m\u001b[0mfilled\u001b[0m\u001b[0;34m(\u001b[0m\u001b[0mnp\u001b[0m\u001b[0;34m.\u001b[0m\u001b[0mnan\u001b[0m\u001b[0;34m)\u001b[0m\u001b[0;34m\u001b[0m\u001b[0;34m\u001b[0m\u001b[0m\n\u001b[0m\u001b[1;32m    194\u001b[0m         \u001b[0;32mif\u001b[0m \u001b[0mvmin\u001b[0m \u001b[0;32mis\u001b[0m \u001b[0;32mNone\u001b[0m\u001b[0;34m:\u001b[0m\u001b[0;34m\u001b[0m\u001b[0;34m\u001b[0m\u001b[0m\n\u001b[1;32m    195\u001b[0m             \u001b[0;32mif\u001b[0m \u001b[0mrobust\u001b[0m\u001b[0;34m:\u001b[0m\u001b[0;34m\u001b[0m\u001b[0;34m\u001b[0m\u001b[0m\n",
            "\u001b[0;31mValueError\u001b[0m: could not convert string to float: '0.040.170.070.040.140.190.11060K0.130.180.080.180.030.220.080.10.170.080.130.67000.030.070.040.18000.090.1700.070.440.040.050.2900.020.470.0500.080.130.620.240.721.740.160.090.060.1200.320.060.080.130.390.120.0300.120.0400.1900.040.570.260.10.40.230.560.13000.2600.210.090.10.060.3700.4000.010.58M0.160.130.860.020.550.0601.020.130.50.280.110.040.540.150.2800.0400.110.212.290.050.080.210.050.110.210.30.410.130.192.30.9900.05000.70.10.4500.130.030.750.1100.680.150.860.550.030.031.23M0.510.240.260.190.160.240.10.120.020.150.480.29000.010.070.292.90.060.050.30.780.393.380.1400.540.030.320.150.820.210.4300.520.0500.1101.0800.130.0700.480.180.120.360.0400.050.42000.160.240.330.450.070.10.320.590.0100.010.100.300.1100.150.170.753.830.170.350.063.790.120.110.570.650.0400.080.240.090K0.1200.570.20.020.310.060.180.250.011.050.230.150.890.130.050.0800.630000.580.120.120.0800.090.230.0900.130.150.020.720.170.140.030.170.6200.030.09000.060.10.250.050.450.300.06000.20.070.191.850.370.182.061.360.640.280.361.150.050.020.410.560.2700.26000.020.120.110.140.130.030.160.260.050.1500.3200.290.210.050.1400.450.070.380.50.0400.2700.340.091.980.131.0500.210.020.12.6400.0300.090.381.060.020.030.780.310.130.2900.110.050.20.2000.540.253.110.0700.21000.080.170.6800.080.050.470.0700.210.220.190.020.0300.060.10.08000.340.020.3100.580.14000.080.05M0.150.170.1304100K0.010.530.050.481.070.250.193.80.110.440.530.880.30.051.7800.080.130.850.230.0200..."
          ]
        },
        {
          "output_type": "display_data",
          "data": {
            "text/plain": [
              "<Figure size 720x720 with 0 Axes>"
            ]
          },
          "metadata": {}
        }
      ]
    },
    {
      "cell_type": "code",
      "source": [
        "# Platform에 따른 전세계 판매량 비교\n",
        "f, ax = plt.subplots(1,1, figsize=(8, 8))\n",
        "sns.barplot(x = 'Platform_Groups', y='Total_Sales', data= df[df['Year']>=2000])\n",
        "ax.set_ylabel('Global Sales (Million)')\n",
        "plt.xticks(fontsize=12)"
      ],
      "metadata": {
        "colab": {
          "base_uri": "https://localhost:8080/",
          "height": 866
        },
        "id": "Pq2q159vX8nl",
        "outputId": "548620e3-e853-4058-8a4b-1f4a6dced992"
      },
      "execution_count": null,
      "outputs": [
        {
          "output_type": "error",
          "ename": "TypeError",
          "evalue": "ignored",
          "traceback": [
            "\u001b[0;31m---------------------------------------------------------------------------\u001b[0m",
            "\u001b[0;31mTypeError\u001b[0m                                 Traceback (most recent call last)",
            "\u001b[0;32m<ipython-input-155-693d8d9f76b9>\u001b[0m in \u001b[0;36m<module>\u001b[0;34m\u001b[0m\n\u001b[1;32m      1\u001b[0m \u001b[0;31m# Platform에 따른 전세계 판매량 비교\u001b[0m\u001b[0;34m\u001b[0m\u001b[0;34m\u001b[0m\u001b[0;34m\u001b[0m\u001b[0m\n\u001b[1;32m      2\u001b[0m \u001b[0mf\u001b[0m\u001b[0;34m,\u001b[0m \u001b[0max\u001b[0m \u001b[0;34m=\u001b[0m \u001b[0mplt\u001b[0m\u001b[0;34m.\u001b[0m\u001b[0msubplots\u001b[0m\u001b[0;34m(\u001b[0m\u001b[0;36m1\u001b[0m\u001b[0;34m,\u001b[0m\u001b[0;36m1\u001b[0m\u001b[0;34m,\u001b[0m \u001b[0mfigsize\u001b[0m\u001b[0;34m=\u001b[0m\u001b[0;34m(\u001b[0m\u001b[0;36m8\u001b[0m\u001b[0;34m,\u001b[0m \u001b[0;36m8\u001b[0m\u001b[0;34m)\u001b[0m\u001b[0;34m)\u001b[0m\u001b[0;34m\u001b[0m\u001b[0;34m\u001b[0m\u001b[0m\n\u001b[0;32m----> 3\u001b[0;31m \u001b[0msns\u001b[0m\u001b[0;34m.\u001b[0m\u001b[0mbarplot\u001b[0m\u001b[0;34m(\u001b[0m\u001b[0mx\u001b[0m \u001b[0;34m=\u001b[0m \u001b[0;34m'Platform_Groups'\u001b[0m\u001b[0;34m,\u001b[0m \u001b[0my\u001b[0m\u001b[0;34m=\u001b[0m\u001b[0;34m'Total_Sales'\u001b[0m\u001b[0;34m,\u001b[0m \u001b[0mdata\u001b[0m\u001b[0;34m=\u001b[0m \u001b[0mdf\u001b[0m\u001b[0;34m[\u001b[0m\u001b[0mdf\u001b[0m\u001b[0;34m[\u001b[0m\u001b[0;34m'Year'\u001b[0m\u001b[0;34m]\u001b[0m\u001b[0;34m>=\u001b[0m\u001b[0;36m2000\u001b[0m\u001b[0;34m]\u001b[0m\u001b[0;34m)\u001b[0m\u001b[0;34m\u001b[0m\u001b[0;34m\u001b[0m\u001b[0m\n\u001b[0m\u001b[1;32m      4\u001b[0m \u001b[0max\u001b[0m\u001b[0;34m.\u001b[0m\u001b[0mset_ylabel\u001b[0m\u001b[0;34m(\u001b[0m\u001b[0;34m'Global Sales (Million)'\u001b[0m\u001b[0;34m)\u001b[0m\u001b[0;34m\u001b[0m\u001b[0;34m\u001b[0m\u001b[0m\n\u001b[1;32m      5\u001b[0m \u001b[0mplt\u001b[0m\u001b[0;34m.\u001b[0m\u001b[0mxticks\u001b[0m\u001b[0;34m(\u001b[0m\u001b[0mfontsize\u001b[0m\u001b[0;34m=\u001b[0m\u001b[0;36m12\u001b[0m\u001b[0;34m)\u001b[0m\u001b[0;34m\u001b[0m\u001b[0;34m\u001b[0m\u001b[0m\n",
            "\u001b[0;32m/usr/local/lib/python3.7/dist-packages/seaborn/_decorators.py\u001b[0m in \u001b[0;36minner_f\u001b[0;34m(*args, **kwargs)\u001b[0m\n\u001b[1;32m     44\u001b[0m             )\n\u001b[1;32m     45\u001b[0m         \u001b[0mkwargs\u001b[0m\u001b[0;34m.\u001b[0m\u001b[0mupdate\u001b[0m\u001b[0;34m(\u001b[0m\u001b[0;34m{\u001b[0m\u001b[0mk\u001b[0m\u001b[0;34m:\u001b[0m \u001b[0marg\u001b[0m \u001b[0;32mfor\u001b[0m \u001b[0mk\u001b[0m\u001b[0;34m,\u001b[0m \u001b[0marg\u001b[0m \u001b[0;32min\u001b[0m \u001b[0mzip\u001b[0m\u001b[0;34m(\u001b[0m\u001b[0msig\u001b[0m\u001b[0;34m.\u001b[0m\u001b[0mparameters\u001b[0m\u001b[0;34m,\u001b[0m \u001b[0margs\u001b[0m\u001b[0;34m)\u001b[0m\u001b[0;34m}\u001b[0m\u001b[0;34m)\u001b[0m\u001b[0;34m\u001b[0m\u001b[0;34m\u001b[0m\u001b[0m\n\u001b[0;32m---> 46\u001b[0;31m         \u001b[0;32mreturn\u001b[0m \u001b[0mf\u001b[0m\u001b[0;34m(\u001b[0m\u001b[0;34m**\u001b[0m\u001b[0mkwargs\u001b[0m\u001b[0;34m)\u001b[0m\u001b[0;34m\u001b[0m\u001b[0;34m\u001b[0m\u001b[0m\n\u001b[0m\u001b[1;32m     47\u001b[0m     \u001b[0;32mreturn\u001b[0m \u001b[0minner_f\u001b[0m\u001b[0;34m\u001b[0m\u001b[0;34m\u001b[0m\u001b[0m\n\u001b[1;32m     48\u001b[0m \u001b[0;34m\u001b[0m\u001b[0m\n",
            "\u001b[0;32m/usr/local/lib/python3.7/dist-packages/seaborn/categorical.py\u001b[0m in \u001b[0;36mbarplot\u001b[0;34m(x, y, hue, data, order, hue_order, estimator, ci, n_boot, units, seed, orient, color, palette, saturation, errcolor, errwidth, capsize, dodge, ax, **kwargs)\u001b[0m\n\u001b[1;32m   3183\u001b[0m                           \u001b[0mestimator\u001b[0m\u001b[0;34m,\u001b[0m \u001b[0mci\u001b[0m\u001b[0;34m,\u001b[0m \u001b[0mn_boot\u001b[0m\u001b[0;34m,\u001b[0m \u001b[0munits\u001b[0m\u001b[0;34m,\u001b[0m \u001b[0mseed\u001b[0m\u001b[0;34m,\u001b[0m\u001b[0;34m\u001b[0m\u001b[0;34m\u001b[0m\u001b[0m\n\u001b[1;32m   3184\u001b[0m                           \u001b[0morient\u001b[0m\u001b[0;34m,\u001b[0m \u001b[0mcolor\u001b[0m\u001b[0;34m,\u001b[0m \u001b[0mpalette\u001b[0m\u001b[0;34m,\u001b[0m \u001b[0msaturation\u001b[0m\u001b[0;34m,\u001b[0m\u001b[0;34m\u001b[0m\u001b[0;34m\u001b[0m\u001b[0m\n\u001b[0;32m-> 3185\u001b[0;31m                           errcolor, errwidth, capsize, dodge)\n\u001b[0m\u001b[1;32m   3186\u001b[0m \u001b[0;34m\u001b[0m\u001b[0m\n\u001b[1;32m   3187\u001b[0m     \u001b[0;32mif\u001b[0m \u001b[0max\u001b[0m \u001b[0;32mis\u001b[0m \u001b[0;32mNone\u001b[0m\u001b[0;34m:\u001b[0m\u001b[0;34m\u001b[0m\u001b[0;34m\u001b[0m\u001b[0m\n",
            "\u001b[0;32m/usr/local/lib/python3.7/dist-packages/seaborn/categorical.py\u001b[0m in \u001b[0;36m__init__\u001b[0;34m(self, x, y, hue, data, order, hue_order, estimator, ci, n_boot, units, seed, orient, color, palette, saturation, errcolor, errwidth, capsize, dodge)\u001b[0m\n\u001b[1;32m   1583\u001b[0m         \u001b[0;34m\"\"\"Initialize the plotter.\"\"\"\u001b[0m\u001b[0;34m\u001b[0m\u001b[0;34m\u001b[0m\u001b[0m\n\u001b[1;32m   1584\u001b[0m         self.establish_variables(x, y, hue, data, orient,\n\u001b[0;32m-> 1585\u001b[0;31m                                  order, hue_order, units)\n\u001b[0m\u001b[1;32m   1586\u001b[0m         \u001b[0mself\u001b[0m\u001b[0;34m.\u001b[0m\u001b[0mestablish_colors\u001b[0m\u001b[0;34m(\u001b[0m\u001b[0mcolor\u001b[0m\u001b[0;34m,\u001b[0m \u001b[0mpalette\u001b[0m\u001b[0;34m,\u001b[0m \u001b[0msaturation\u001b[0m\u001b[0;34m)\u001b[0m\u001b[0;34m\u001b[0m\u001b[0;34m\u001b[0m\u001b[0m\n\u001b[1;32m   1587\u001b[0m         \u001b[0mself\u001b[0m\u001b[0;34m.\u001b[0m\u001b[0mestimate_statistic\u001b[0m\u001b[0;34m(\u001b[0m\u001b[0mestimator\u001b[0m\u001b[0;34m,\u001b[0m \u001b[0mci\u001b[0m\u001b[0;34m,\u001b[0m \u001b[0mn_boot\u001b[0m\u001b[0;34m,\u001b[0m \u001b[0mseed\u001b[0m\u001b[0;34m)\u001b[0m\u001b[0;34m\u001b[0m\u001b[0;34m\u001b[0m\u001b[0m\n",
            "\u001b[0;32m/usr/local/lib/python3.7/dist-packages/seaborn/categorical.py\u001b[0m in \u001b[0;36mestablish_variables\u001b[0;34m(self, x, y, hue, data, orient, order, hue_order, units)\u001b[0m\n\u001b[1;32m    155\u001b[0m             \u001b[0;31m# Figure out the plotting orientation\u001b[0m\u001b[0;34m\u001b[0m\u001b[0;34m\u001b[0m\u001b[0;34m\u001b[0m\u001b[0m\n\u001b[1;32m    156\u001b[0m             orient = infer_orient(\n\u001b[0;32m--> 157\u001b[0;31m                 \u001b[0mx\u001b[0m\u001b[0;34m,\u001b[0m \u001b[0my\u001b[0m\u001b[0;34m,\u001b[0m \u001b[0morient\u001b[0m\u001b[0;34m,\u001b[0m \u001b[0mrequire_numeric\u001b[0m\u001b[0;34m=\u001b[0m\u001b[0mself\u001b[0m\u001b[0;34m.\u001b[0m\u001b[0mrequire_numeric\u001b[0m\u001b[0;34m\u001b[0m\u001b[0;34m\u001b[0m\u001b[0m\n\u001b[0m\u001b[1;32m    158\u001b[0m             )\n\u001b[1;32m    159\u001b[0m \u001b[0;34m\u001b[0m\u001b[0m\n",
            "\u001b[0;32m/usr/local/lib/python3.7/dist-packages/seaborn/_core.py\u001b[0m in \u001b[0;36minfer_orient\u001b[0;34m(x, y, orient, require_numeric)\u001b[0m\n\u001b[1;32m   1350\u001b[0m     \u001b[0;32melif\u001b[0m \u001b[0mrequire_numeric\u001b[0m \u001b[0;32mand\u001b[0m \u001b[0;34m\"numeric\"\u001b[0m \u001b[0;32mnot\u001b[0m \u001b[0;32min\u001b[0m \u001b[0;34m(\u001b[0m\u001b[0mx_type\u001b[0m\u001b[0;34m,\u001b[0m \u001b[0my_type\u001b[0m\u001b[0;34m)\u001b[0m\u001b[0;34m:\u001b[0m\u001b[0;34m\u001b[0m\u001b[0;34m\u001b[0m\u001b[0m\n\u001b[1;32m   1351\u001b[0m         \u001b[0merr\u001b[0m \u001b[0;34m=\u001b[0m \u001b[0;34m\"Neither the `x` nor `y` variable appears to be numeric.\"\u001b[0m\u001b[0;34m\u001b[0m\u001b[0;34m\u001b[0m\u001b[0m\n\u001b[0;32m-> 1352\u001b[0;31m         \u001b[0;32mraise\u001b[0m \u001b[0mTypeError\u001b[0m\u001b[0;34m(\u001b[0m\u001b[0merr\u001b[0m\u001b[0;34m)\u001b[0m\u001b[0;34m\u001b[0m\u001b[0;34m\u001b[0m\u001b[0m\n\u001b[0m\u001b[1;32m   1353\u001b[0m \u001b[0;34m\u001b[0m\u001b[0m\n\u001b[1;32m   1354\u001b[0m     \u001b[0;32melse\u001b[0m\u001b[0;34m:\u001b[0m\u001b[0;34m\u001b[0m\u001b[0;34m\u001b[0m\u001b[0m\n",
            "\u001b[0;31mTypeError\u001b[0m: Neither the `x` nor `y` variable appears to be numeric."
          ]
        },
        {
          "output_type": "display_data",
          "data": {
            "text/plain": [
              "<Figure size 576x576 with 1 Axes>"
            ],
            "image/png": "[encoded data removed]"
          },
          "metadata": {
            "needs_background": "light"
          }
        }
      ]
    },
    {
      "cell_type": "code",
      "source": [
        "# Platform에 따른 각 지역 판매량 비교\n",
        "f, ax = plt.subplots(2,2, figsize=(12, 12))\n",
        "sns.barplot(x = 'Platform_Groups', y='NA_Sales', data=df, ax=ax[0,0])\n",
        "ax[0,0].set_ylabel('NA Sales (Million)')\n",
        "ax[0,0].set_xlabel(' ')\n",
        "\n",
        "sns.barplot(x = 'Platform_Groups', y='EU_Sales', data=df, ax=ax[0,1])\n",
        "ax[0,1].set_ylabel('EU Sales (Million)')\n",
        "ax[0,1].set_xlabel(' ')\n",
        "\n",
        "sns.barplot(x = 'Platform_Groups', y='JP_Sales', data=df, ax=ax[1,0])\n",
        "ax[1,0].set_ylabel('JP Sales (Million)')\n",
        "ax[1,0].set_xlabel(' ')\n",
        "\n",
        "sns.barplot(x = 'Platform_Groups', y='Other_Sales', data=df, ax=ax[1,1])\n",
        "ax[1,1].set_ylabel('Other Sales (Million)')\n",
        "ax[1,1].set_xlabel(' ')"
      ],
      "metadata": {
        "colab": {
          "base_uri": "https://localhost:8080/",
          "height": 732
        },
        "id": "-5-diQFDX86Z",
        "outputId": "f12ab3a3-0573-4342-9cf4-044c512fa939"
      },
      "execution_count": null,
      "outputs": [
        {
          "output_type": "execute_result",
          "data": {
            "text/plain": [
              "Text(0.5, 0, ' ')"
            ]
          },
          "metadata": {},
          "execution_count": 17
        },
        {
          "output_type": "display_data",
          "data": {
            "text/plain": [
              "<Figure size 864x864 with 4 Axes>"
            ],
            "image/png": "[encoded data removed]"
          },
          "metadata": {
            "needs_background": "light"
          }
        }
      ]
    },
    {
      "cell_type": "code",
      "source": [
        "df[\"Multiplatform\"] = df.duplicated([\"Name\"], keep=False) # 중복된 모든 행에 True 표시\n",
        "df[\"Multiplatform\"] = df[\"Multiplatform\"].map({True: 1, False:0})\n",
        "df"
      ],
      "metadata": {
        "colab": {
          "base_uri": "https://localhost:8080/",
          "height": 502
        },
        "id": "VmWlJy8oYT4A",
        "outputId": "f5a163f9-8154-4804-c905-594da8430c8d"
      },
      "execution_count": null,
      "outputs": [
        {
          "output_type": "execute_result",
          "data": {
            "text/plain": [
              "                                                 Name Platform    Year  \\\n",
              "0                        Candace Kane's Candy Factory       DS  2008.0   \n",
              "1                                      The Munchables      Wii  2009.0   \n",
              "2      Otome wa Oanesama Boku ni Koi Shiteru Portable      PSP  2010.0   \n",
              "3                    Deal or No Deal: Special Edition       DS  2010.0   \n",
              "4           Ben 10 Ultimate Alien: Cosmic Destruction      PS3  2010.0   \n",
              "...                                               ...      ...     ...   \n",
              "16236                         Ice Age 2: The Meltdown       GC  2006.0   \n",
              "16237                     Rainbow Islands: Revolution      PSP  2005.0   \n",
              "16238                                        NBA 2K16      PS3  2015.0   \n",
              "16239                     Toukiden: The Age of Demons      PSV  2013.0   \n",
              "16240                        The King of Fighters '95       PS  1996.0   \n",
              "\n",
              "           Genre                    Publisher  NA_Sales  EU_Sales  JP_Sales  \\\n",
              "0         Action                    Destineer      0.04      0.00      0.00   \n",
              "1         Action           Namco Bandai Games      0.17      0.00      0.00   \n",
              "2      Adventure                    Alchemist      0.00      0.00      0.02   \n",
              "3           Misc                    Zoo Games      0.04      0.00      0.00   \n",
              "4       Platform                  D3Publisher      0.12      0.09      0.00   \n",
              "...          ...                          ...       ...       ...       ...   \n",
              "16236   Platform                Vivendi Games      0.15      0.04      0.00   \n",
              "16237     Action            Rising Star Games      0.01      0.00      0.00   \n",
              "16238     Sports         Take-Two Interactive      0.44      0.19      0.03   \n",
              "16239     Action                   Tecmo Koei      0.05      0.05      0.25   \n",
              "16240   Fighting  Sony Computer Entertainment      0.00      0.00      0.16   \n",
              "\n",
              "       Other_Sales  Total_Sales Platform_Groups  Multiplatform  \n",
              "0             0.00         0.04        Portable              1  \n",
              "1             0.01         0.18         Console              0  \n",
              "2             0.00         0.02        Portable              0  \n",
              "3             0.00         0.04        Portable              0  \n",
              "4             0.04         0.25         Console              1  \n",
              "...            ...          ...             ...            ...  \n",
              "16236         0.01         0.20         Console              1  \n",
              "16237         0.00         0.01        Portable              0  \n",
              "16238         0.13         0.79         Console              1  \n",
              "16239         0.03         0.38        Portable              1  \n",
              "16240         0.01         0.17         Console              1  \n",
              "\n",
              "[16241 rows x 12 columns]"
            ],
            "text/html": [
              "\n",
              "  <div id=\"df-774179b6-8c42-46da-b861-83a1a0daa1fc\">\n",
              "    <div class=\"colab-df-container\">\n",
              "      <div>\n",
              "<style scoped>\n",
              "    .dataframe tbody tr th:only-of-type {\n",
              "        vertical-align: middle;\n",
              "    }\n",
              "\n",
              "    .dataframe tbody tr th {\n",
              "        vertical-align: top;\n",
              "    }\n",
              "\n",
              "    .dataframe thead th {\n",
              "        text-align: right;\n",
              "    }\n",
              "</style>\n",
              "<table border=\"1\" class=\"dataframe\">\n",
              "  <thead>\n",
              "    <tr style=\"text-align: right;\">\n",
              "      <th></th>\n",
              "      <th>Name</th>\n",
              "      <th>Platform</th>\n",
              "      <th>Year</th>\n",
              "      <th>Genre</th>\n",
              "      <th>Publisher</th>\n",
              "      <th>NA_Sales</th>\n",
              "      <th>EU_Sales</th>\n",
              "      <th>JP_Sales</th>\n",
              "      <th>Other_Sales</th>\n",
              "      <th>Total_Sales</th>\n",
              "      <th>Platform_Groups</th>\n",
              "      <th>Multiplatform</th>\n",
              "    </tr>\n",
              "  </thead>\n",
              "  <tbody>\n",
              "    <tr>\n",
              "      <th>0</th>\n",
              "      <td>Candace Kane's Candy Factory</td>\n",
              "      <td>DS</td>\n",
              "      <td>2008.0</td>\n",
              "      <td>Action</td>\n",
              "      <td>Destineer</td>\n",
              "      <td>0.04</td>\n",
              "      <td>0.00</td>\n",
              "      <td>0.00</td>\n",
              "      <td>0.00</td>\n",
              "      <td>0.04</td>\n",
              "      <td>Portable</td>\n",
              "      <td>1</td>\n",
              "    </tr>\n",
              "    <tr>\n",
              "      <th>1</th>\n",
              "      <td>The Munchables</td>\n",
              "      <td>Wii</td>\n",
              "      <td>2009.0</td>\n",
              "      <td>Action</td>\n",
              "      <td>Namco Bandai Games</td>\n",
              "      <td>0.17</td>\n",
              "      <td>0.00</td>\n",
              "      <td>0.00</td>\n",
              "      <td>0.01</td>\n",
              "      <td>0.18</td>\n",
              "      <td>Console</td>\n",
              "      <td>0</td>\n",
              "    </tr>\n",
              "    <tr>\n",
              "      <th>2</th>\n",
              "      <td>Otome wa Oanesama Boku ni Koi Shiteru Portable</td>\n",
              "      <td>PSP</td>\n",
              "      <td>2010.0</td>\n",
              "      <td>Adventure</td>\n",
              "      <td>Alchemist</td>\n",
              "      <td>0.00</td>\n",
              "      <td>0.00</td>\n",
              "      <td>0.02</td>\n",
              "      <td>0.00</td>\n",
              "      <td>0.02</td>\n",
              "      <td>Portable</td>\n",
              "      <td>0</td>\n",
              "    </tr>\n",
              "    <tr>\n",
              "      <th>3</th>\n",
              "      <td>Deal or No Deal: Special Edition</td>\n",
              "      <td>DS</td>\n",
              "      <td>2010.0</td>\n",
              "      <td>Misc</td>\n",
              "      <td>Zoo Games</td>\n",
              "      <td>0.04</td>\n",
              "      <td>0.00</td>\n",
              "      <td>0.00</td>\n",
              "      <td>0.00</td>\n",
              "      <td>0.04</td>\n",
              "      <td>Portable</td>\n",
              "      <td>0</td>\n",
              "    </tr>\n",
              "    <tr>\n",
              "      <th>4</th>\n",
              "      <td>Ben 10 Ultimate Alien: Cosmic Destruction</td>\n",
              "      <td>PS3</td>\n",
              "      <td>2010.0</td>\n",
              "      <td>Platform</td>\n",
              "      <td>D3Publisher</td>\n",
              "      <td>0.12</td>\n",
              "      <td>0.09</td>\n",
              "      <td>0.00</td>\n",
              "      <td>0.04</td>\n",
              "      <td>0.25</td>\n",
              "      <td>Console</td>\n",
              "      <td>1</td>\n",
              "    </tr>\n",
              "    <tr>\n",
              "      <th>...</th>\n",
              "      <td>...</td>\n",
              "      <td>...</td>\n",
              "      <td>...</td>\n",
              "      <td>...</td>\n",
              "      <td>...</td>\n",
              "      <td>...</td>\n",
              "      <td>...</td>\n",
              "      <td>...</td>\n",
              "      <td>...</td>\n",
              "      <td>...</td>\n",
              "      <td>...</td>\n",
              "      <td>...</td>\n",
              "    </tr>\n",
              "    <tr>\n",
              "      <th>16236</th>\n",
              "      <td>Ice Age 2: The Meltdown</td>\n",
              "      <td>GC</td>\n",
              "      <td>2006.0</td>\n",
              "      <td>Platform</td>\n",
              "      <td>Vivendi Games</td>\n",
              "      <td>0.15</td>\n",
              "      <td>0.04</td>\n",
              "      <td>0.00</td>\n",
              "      <td>0.01</td>\n",
              "      <td>0.20</td>\n",
              "      <td>Console</td>\n",
              "      <td>1</td>\n",
              "    </tr>\n",
              "    <tr>\n",
              "      <th>16237</th>\n",
              "      <td>Rainbow Islands: Revolution</td>\n",
              "      <td>PSP</td>\n",
              "      <td>2005.0</td>\n",
              "      <td>Action</td>\n",
              "      <td>Rising Star Games</td>\n",
              "      <td>0.01</td>\n",
              "      <td>0.00</td>\n",
              "      <td>0.00</td>\n",
              "      <td>0.00</td>\n",
              "      <td>0.01</td>\n",
              "      <td>Portable</td>\n",
              "      <td>0</td>\n",
              "    </tr>\n",
              "    <tr>\n",
              "      <th>16238</th>\n",
              "      <td>NBA 2K16</td>\n",
              "      <td>PS3</td>\n",
              "      <td>2015.0</td>\n",
              "      <td>Sports</td>\n",
              "      <td>Take-Two Interactive</td>\n",
              "      <td>0.44</td>\n",
              "      <td>0.19</td>\n",
              "      <td>0.03</td>\n",
              "      <td>0.13</td>\n",
              "      <td>0.79</td>\n",
              "      <td>Console</td>\n",
              "      <td>1</td>\n",
              "    </tr>\n",
              "    <tr>\n",
              "      <th>16239</th>\n",
              "      <td>Toukiden: The Age of Demons</td>\n",
              "      <td>PSV</td>\n",
              "      <td>2013.0</td>\n",
              "      <td>Action</td>\n",
              "      <td>Tecmo Koei</td>\n",
              "      <td>0.05</td>\n",
              "      <td>0.05</td>\n",
              "      <td>0.25</td>\n",
              "      <td>0.03</td>\n",
              "      <td>0.38</td>\n",
              "      <td>Portable</td>\n",
              "      <td>1</td>\n",
              "    </tr>\n",
              "    <tr>\n",
              "      <th>16240</th>\n",
              "      <td>The King of Fighters '95</td>\n",
              "      <td>PS</td>\n",
              "      <td>1996.0</td>\n",
              "      <td>Fighting</td>\n",
              "      <td>Sony Computer Entertainment</td>\n",
              "      <td>0.00</td>\n",
              "      <td>0.00</td>\n",
              "      <td>0.16</td>\n",
              "      <td>0.01</td>\n",
              "      <td>0.17</td>\n",
              "      <td>Console</td>\n",
              "      <td>1</td>\n",
              "    </tr>\n",
              "  </tbody>\n",
              "</table>\n",
              "<p>16241 rows × 12 columns</p>\n",
              "</div>\n",
              "      <button class=\"colab-df-convert\" onclick=\"convertToInteractive('df-774179b6-8c42-46da-b861-83a1a0daa1fc')\"\n",
              "              title=\"Convert this dataframe to an interactive table.\"\n",
              "              style=\"display:none;\">\n",
              "        \n",
              "  <svg xmlns=\"http://www.w3.org/2000/svg\" height=\"24px\"viewBox=\"0 0 24 24\"\n",
              "       width=\"24px\">\n",
              "    <path d=\"M0 0h24v24H0V0z\" fill=\"none\"/>\n",
              "    <path d=\"M18.56 5.44l.94 2.06.94-2.06 2.06-.94-2.06-.94-.94-2.06-.94 2.06-2.06.94zm-11 1L8.5 8.5l.94-2.06 2.06-.94-2.06-.94L8.5 2.5l-.94 2.06-2.06.94zm10 10l.94 2.06.94-2.06 2.06-.94-2.06-.94-.94-2.06-.94 2.06-2.06.94z\"/><path d=\"M17.41 7.96l-1.37-1.37c-.4-.4-.92-.59-1.43-.59-.52 0-1.04.2-1.43.59L10.3 9.45l-7.72 7.72c-.78.78-.78 2.05 0 2.83L4 21.41c.39.39.9.59 1.41.59.51 0 1.02-.2 1.41-.59l7.78-7.78 2.81-2.81c.8-.78.8-2.07 0-2.86zM5.41 20L4 18.59l7.72-7.72 1.47 1.35L5.41 20z\"/>\n",
              "  </svg>\n",
              "      </button>\n",
              "      \n",
              "  <style>\n",
              "    .colab-df-container {\n",
              "      display:flex;\n",
              "      flex-wrap:wrap;\n",
              "      gap: 12px;\n",
              "    }\n",
              "\n",
              "    .colab-df-convert {\n",
              "      background-color: #E8F0FE;\n",
              "      border: none;\n",
              "      border-radius: 50%;\n",
              "      cursor: pointer;\n",
              "      display: none;\n",
              "      fill: #1967D2;\n",
              "      height: 32px;\n",
              "      padding: 0 0 0 0;\n",
              "      width: 32px;\n",
              "    }\n",
              "\n",
              "    .colab-df-convert:hover {\n",
              "      background-color: #E2EBFA;\n",
              "      box-shadow: 0px 1px 2px rgba(60, 64, 67, 0.3), 0px 1px 3px 1px rgba(60, 64, 67, 0.15);\n",
              "      fill: #174EA6;\n",
              "    }\n",
              "\n",
              "    [theme=dark] .colab-df-convert {\n",
              "      background-color: #3B4455;\n",
              "      fill: #D2E3FC;\n",
              "    }\n",
              "\n",
              "    [theme=dark] .colab-df-convert:hover {\n",
              "      background-color: #434B5C;\n",
              "      box-shadow: 0px 1px 3px 1px rgba(0, 0, 0, 0.15);\n",
              "      filter: drop-shadow(0px 1px 2px rgba(0, 0, 0, 0.3));\n",
              "      fill: #FFFFFF;\n",
              "    }\n",
              "  </style>\n",
              "\n",
              "      <script>\n",
              "        const buttonEl =\n",
              "          document.querySelector('#df-774179b6-8c42-46da-b861-83a1a0daa1fc button.colab-df-convert');\n",
              "        buttonEl.style.display =\n",
              "          google.colab.kernel.accessAllowed ? 'block' : 'none';\n",
              "\n",
              "        async function convertToInteractive(key) {\n",
              "          const element = document.querySelector('#df-774179b6-8c42-46da-b861-83a1a0daa1fc');\n",
              "          const dataTable =\n",
              "            await google.colab.kernel.invokeFunction('convertToInteractive',\n",
              "                                                     [key], {});\n",
              "          if (!dataTable) return;\n",
              "\n",
              "          const docLinkHtml = 'Like what you see? Visit the ' +\n",
              "            '<a target=\"_blank\" href=https://colab.research.google.com/notebooks/data_table.ipynb>data table notebook</a>'\n",
              "            + ' to learn more about interactive tables.';\n",
              "          element.innerHTML = '';\n",
              "          dataTable['output_type'] = 'display_data';\n",
              "          await google.colab.output.renderOutput(dataTable, element);\n",
              "          const docLink = document.createElement('div');\n",
              "          docLink.innerHTML = docLinkHtml;\n",
              "          element.appendChild(docLink);\n",
              "        }\n",
              "      </script>\n",
              "    </div>\n",
              "  </div>\n",
              "  "
            ]
          },
          "metadata": {},
          "execution_count": 18
        }
      ]
    },
    {
      "cell_type": "code",
      "source": [
        "# 멀티플랫폼에 따른 총 판매량 비교\n",
        "f, ax = plt.subplots(1,1, figsize=(8, 8))\n",
        "sns.barplot(x = 'Multiplatform', y='Total_Sales', data=df)\n",
        "ax.set_ylabel('Global Sales (Million)')\n",
        "plt.xticks(fontsize=12)\n",
        "plt.show()"
      ],
      "metadata": {
        "colab": {
          "base_uri": "https://localhost:8080/",
          "height": 499
        },
        "id": "PUvX34b8YUGw",
        "outputId": "c1d3d50b-9d27-45f0-f335-e5bea68553b5"
      },
      "execution_count": null,
      "outputs": [
        {
          "output_type": "display_data",
          "data": {
            "text/plain": [
              "<Figure size 576x576 with 1 Axes>"
            ],
            "image/png": "[encoded data removed]"
          },
          "metadata": {
            "needs_background": "light"
          }
        }
      ]
    },
    {
      "cell_type": "code",
      "source": [
        "# 멀티플랫폼에 따른 각 지역 판매량 비교\n",
        "f, ax = plt.subplots(2,2, figsize=(12, 12))\n",
        "sns.barplot(x = 'Multiplatform', y='NA_Sales', data=df, ax=ax[0,0])\n",
        "ax[0,0].set_ylabel('NA Sales (Million)')\n",
        "ax[0,0].set_xlabel('Multiplatform')\n",
        "\n",
        "sns.barplot(x = 'Multiplatform', y='EU_Sales', data=df, ax=ax[0,1])\n",
        "ax[0,1].set_ylabel('EU Sales (Million)')\n",
        "ax[0,1].set_xlabel('Multiplatform')\n",
        "\n",
        "sns.barplot(x = 'Multiplatform', y='JP_Sales', data=df, ax=ax[1,0])\n",
        "ax[1,0].set_ylabel('JP Sales (Million)')\n",
        "ax[1,0].set_xlabel('Multiplatform')\n",
        "\n",
        "sns.barplot(x = 'Multiplatform', y='Other_Sales', data=df, ax=ax[1,1])\n",
        "ax[1,1].set_ylabel('Other Sales (Million)')\n",
        "ax[1,1].set_xlabel('Multiplatform')\n",
        "\n",
        "\n",
        "plt.show()"
      ],
      "metadata": {
        "colab": {
          "base_uri": "https://localhost:8080/",
          "height": 714
        },
        "id": "AgsiAddIYUlt",
        "outputId": "55ed7929-b19e-4718-8c9e-b6e245a467de"
      },
      "execution_count": null,
      "outputs": [
        {
          "output_type": "display_data",
          "data": {
            "text/plain": [
              "<Figure size 864x864 with 4 Axes>"
            ],
            "image/png": "[encoded data removed]"
          },
          "metadata": {
            "needs_background": "light"
          }
        }
      ]
    },
    {
      "cell_type": "code",
      "source": [
        "df['Year'].value_counts()"
      ],
      "metadata": {
        "colab": {
          "base_uri": "https://localhost:8080/"
        },
        "id": "_sAFjujxYU1k",
        "outputId": "d47f64f0-629b-4fb0-e95c-fc3bea55fd81"
      },
      "execution_count": null,
      "outputs": [
        {
          "output_type": "execute_result",
          "data": {
            "text/plain": [
              "2009.0    1418\n",
              "2008.0    1413\n",
              "2010.0    1246\n",
              "2007.0    1192\n",
              "2011.0    1123\n",
              "          ... \n",
              "13.0         2\n",
              "12.0         2\n",
              "86.0         1\n",
              "2020.0       1\n",
              "94.0         1\n",
              "Name: Year, Length: 62, dtype: int64"
            ]
          },
          "metadata": {},
          "execution_count": 21
        }
      ]
    },
    {
      "cell_type": "code",
      "source": [
        "f, ax = plt.subplots(1, 1, figsize=(8,8))\n",
        "sns.histplot(x = df[(df['Year'] <= 100)]['Year'], kde=True)\n",
        "plt.show()"
      ],
      "metadata": {
        "colab": {
          "base_uri": "https://localhost:8080/",
          "height": 496
        },
        "id": "5COuvalWYUVH",
        "outputId": "57fe5c46-5419-45d9-8e86-075616ff6fbb"
      },
      "execution_count": null,
      "outputs": [
        {
          "output_type": "display_data",
          "data": {
            "text/plain": [
              "<Figure size 576x576 with 1 Axes>"
            ],
            "image/png": "[encoded data removed]"
          },
          "metadata": {
            "needs_background": "light"
          }
        }
      ]
    },
    {
      "cell_type": "code",
      "source": [
        "# 1. 지역별 게임장르\n",
        "# Sale 데이터에 (M,K) 제거해야함\n",
        "drop_values = ['K','M']\n",
        "df = df[~df['NA_Sales'].str.contains('|'.join(drop_values))]\n",
        "df = df[~df['EU_Sales'].str.contains('|'.join(drop_values))]\n",
        "df = df[~df['JP_Sales'].str.contains('|'.join(drop_values))]\n",
        "df = df[~df['Other_Sales'].str.contains('|'.join(drop_values))]\n",
        "\n",
        "df[\"Total_Sales\"] = df.NA_Sales + df.EU_Sales + df.JP_Sales + df.Other_Sales\n",
        "df.info()"
      ],
      "metadata": {
        "colab": {
          "base_uri": "https://localhost:8080/"
        },
        "id": "lFz3AIzJmcBM",
        "outputId": "1041575f-ff17-4ff5-f4aa-9aa51aacdcf7"
      },
      "execution_count": null,
      "outputs": [
        {
          "output_type": "stream",
          "name": "stdout",
          "text": [
            "<class 'pandas.core.frame.DataFrame'>\n",
            "Int64Index: 15476 entries, 0 to 16240\n",
            "Data columns (total 11 columns):\n",
            " #   Column           Non-Null Count  Dtype  \n",
            "---  ------           --------------  -----  \n",
            " 0   Name             15476 non-null  object \n",
            " 1   Platform         15476 non-null  object \n",
            " 2   Year             15476 non-null  float64\n",
            " 3   Genre            15476 non-null  object \n",
            " 4   Publisher        15476 non-null  object \n",
            " 5   NA_Sales         15476 non-null  object \n",
            " 6   EU_Sales         15476 non-null  object \n",
            " 7   JP_Sales         15476 non-null  object \n",
            " 8   Other_Sales      15476 non-null  object \n",
            " 9   Total_Sales      15476 non-null  object \n",
            " 10  Platform_Groups  15476 non-null  object \n",
            "dtypes: float64(1), object(10)\n",
            "memory usage: 1.4+ MB\n"
          ]
        }
      ]
    },
    {
      "cell_type": "code",
      "source": [
        "#플랫폼의 종류 갯수\n",
        "df['Platform'].value_counts()\n",
        "\n",
        "df['Total_Sales'] = df['NA_Sales'] + df['EU_Sales'] + df['JP_Sales'] + df['Other_Sales']\n",
        "df\n",
        "\n",
        "# 전 대륙 선호하는 게임 장르\n",
        "df_genre = df.groupby(by=['Genre'])['Total_Sales'].sum() \n",
        "df_genre = df_genre.reset_index()\n",
        "\n",
        "# 북미 선호하는 게임 장르\n",
        "df_na = df.groupby(by=['Genre'])['NA_Sales'].sum() \n",
        "df_na = df_na.reset_index()\n",
        "\n",
        " # 유럽 선호하는 게임 장르\n",
        "df_eu = df.groupby(by=['Genre'])['EU_Sales'].sum()\n",
        "df_eu = df_eu.reset_index()\n",
        "\n",
        "# 일본 선호하는 게임 장르\n",
        "df_jp = df.groupby(by=['Genre'])['JP_Sales'].sum() \n",
        "df_jp = df_jp.reset_index()\n",
        "\n",
        "# 기타지역 선호하는 게임 장르\n",
        "df_genre_ot = df.groupby(by=['Genre'])['Other_Sales'].sum() \n",
        "df_genre_ot = df_ot.reset_index()\n",
        "\n",
        "df_genre = df_genre.combine_first(df_genre_na).combine_first(df_genre_eu).combine_first(df_genre_jp).combine_first(df_genre_ot)\n",
        "df_genre = df_genre.set_index(\"Genre\")\n",
        "\n",
        "sns.set(style='darkgrid')\n",
        "plt.figure(figsize=(15, 10))\n",
        "plt.title(\"Preferred Game Genre by Continent\", fontsize=30)\n",
        "plt.xlabel(\"Genre of game\", fontsize=20)\n",
        "plt.ylabel(\"Total sales volume\", fontsize=20)\n",
        "\n",
        "sns.lineplot(data=df_genre, markers=True);"
      ],
      "metadata": {
        "colab": {
          "base_uri": "https://localhost:8080/",
          "height": 246
        },
        "id": "UBGBsK2QnA6Z",
        "outputId": "00764c86-0593-496c-b405-80938ca54b19"
      },
      "execution_count": null,
      "outputs": [
        {
          "output_type": "error",
          "ename": "NameError",
          "evalue": "ignored",
          "traceback": [
            "\u001b[0;31m---------------------------------------------------------------------------\u001b[0m",
            "\u001b[0;31mNameError\u001b[0m                                 Traceback (most recent call last)",
            "\u001b[0;32m<ipython-input-36-2ad3c5f97b2a>\u001b[0m in \u001b[0;36m<module>\u001b[0;34m\u001b[0m\n\u001b[1;32m     23\u001b[0m \u001b[0;31m# 기타지역 선호하는 게임 장르\u001b[0m\u001b[0;34m\u001b[0m\u001b[0;34m\u001b[0m\u001b[0;34m\u001b[0m\u001b[0m\n\u001b[1;32m     24\u001b[0m \u001b[0mdf_genre_ot\u001b[0m \u001b[0;34m=\u001b[0m \u001b[0mdf\u001b[0m\u001b[0;34m.\u001b[0m\u001b[0mgroupby\u001b[0m\u001b[0;34m(\u001b[0m\u001b[0mby\u001b[0m\u001b[0;34m=\u001b[0m\u001b[0;34m[\u001b[0m\u001b[0;34m'Genre'\u001b[0m\u001b[0;34m]\u001b[0m\u001b[0;34m)\u001b[0m\u001b[0;34m[\u001b[0m\u001b[0;34m'Other_Sales'\u001b[0m\u001b[0;34m]\u001b[0m\u001b[0;34m.\u001b[0m\u001b[0msum\u001b[0m\u001b[0;34m(\u001b[0m\u001b[0;34m)\u001b[0m\u001b[0;34m\u001b[0m\u001b[0;34m\u001b[0m\u001b[0m\n\u001b[0;32m---> 25\u001b[0;31m \u001b[0mdf_genre_ot\u001b[0m \u001b[0;34m=\u001b[0m \u001b[0mdf_ot\u001b[0m\u001b[0;34m.\u001b[0m\u001b[0mreset_index\u001b[0m\u001b[0;34m(\u001b[0m\u001b[0;34m)\u001b[0m\u001b[0;34m\u001b[0m\u001b[0;34m\u001b[0m\u001b[0m\n\u001b[0m\u001b[1;32m     26\u001b[0m \u001b[0;34m\u001b[0m\u001b[0m\n\u001b[1;32m     27\u001b[0m \u001b[0mdf_genre\u001b[0m \u001b[0;34m=\u001b[0m \u001b[0mdf_genre\u001b[0m\u001b[0;34m.\u001b[0m\u001b[0mcombine_first\u001b[0m\u001b[0;34m(\u001b[0m\u001b[0mdf_genre_na\u001b[0m\u001b[0;34m)\u001b[0m\u001b[0;34m.\u001b[0m\u001b[0mcombine_first\u001b[0m\u001b[0;34m(\u001b[0m\u001b[0mdf_genre_eu\u001b[0m\u001b[0;34m)\u001b[0m\u001b[0;34m.\u001b[0m\u001b[0mcombine_first\u001b[0m\u001b[0;34m(\u001b[0m\u001b[0mdf_genre_jp\u001b[0m\u001b[0;34m)\u001b[0m\u001b[0;34m.\u001b[0m\u001b[0mcombine_first\u001b[0m\u001b[0;34m(\u001b[0m\u001b[0mdf_genre_ot\u001b[0m\u001b[0;34m)\u001b[0m\u001b[0;34m\u001b[0m\u001b[0;34m\u001b[0m\u001b[0m\n",
            "\u001b[0;31mNameError\u001b[0m: name 'df_ot' is not defined"
          ]
        }
      ]
    },
    {
      "cell_type": "markdown",
      "source": [
        "\n",
        "\n",
        "\n",
        "\n",
        "\n",
        "\n",
        "\n",
        "*  지역에 따라서 선호하는 게임 장르가 다를까?  \n",
        "*  연도별 게임의 트렌드가 있을까?\n",
        "*  출고량의 높은 게임에 대한 분석 및 시각화 프로세스는?\n",
        "\n",
        "\n",
        "\n",
        "\n",
        "\n",
        "\n",
        "\n"
      ],
      "metadata": {
        "id": "cdhI4b4L8toQ"
      }
    },
    {
      "cell_type": "code",
      "source": [
        "index_correct_year = list(df[(df['Year'] < 100)].index)\n",
        "\n",
        "for i in index_correct_year:\n",
        "\t\tif df['Year'].iloc[i] <= 20 :\n",
        "\t\t\t\tdf['Year'].iloc[i] = df['Year'].iloc[i] + 2000\n",
        "\n",
        "\t\telif df['Year'].iloc[i] >= 80 :\n",
        "\t\t\t\tdf['Year'].iloc[i] = df['Year'].iloc[i] + 1900\n",
        "\n",
        "df['Year'] = df['Year'].astype(int)\n",
        "\n",
        "for col in df.columns:\n",
        "    msg = 'column {:<10}\\t Percent of NaN value : {:.2f}%'.format(col, 100*(df[col].isnull().sum() / len(df[col])))\n",
        "    print(msg)\n",
        "# 판매량의 K와 M 문자열 처리\n",
        "df['NA_Sales'] = df['NA_Sales'].replace({'K': '*0.001', 'M': \"\"}, regex=True).map(pd.eval)\n",
        "df['EU_Sales'] = df['EU_Sales'].replace({'K': '*0.001', 'M': \"\"}, regex=True).map(pd.eval)\n",
        "df['JP_Sales'] = df['JP_Sales'].replace({'K': '*0.001', 'M': \"\"}, regex=True).map(pd.eval)\n",
        "df['Other_Sales'] = pd.to_numeric(df['Other_Sales'].replace({'K': '*0.001', 'M': \"\"}, regex=True).map(pd.eval))\n",
        "\n",
        "# 전세계 판매량을 반영하기 위해, 새로운 feature 생성\n",
        "df[\"Total_Sales\"] = df.NA_Sales + df.EU_Sales + df.JP_Sales + df.Other_Sales\n",
        "df.info()"
      ],
      "metadata": {
        "id": "v6K0JibF8w1H"
      },
      "execution_count": null,
      "outputs": []
    },
    {
      "cell_type": "markdown",
      "source": [
        "지역에 따라서 선호하는 게임 장르가 다를까?"
      ],
      "metadata": {
        "id": "d5K9sd4K9Adp"
      }
    },
    {
      "cell_type": "code",
      "source": [],
      "metadata": {
        "id": "YTWmd_yA-Go9"
      },
      "execution_count": null,
      "outputs": []
    },
    {
      "cell_type": "markdown",
      "source": [],
      "metadata": {
        "id": "3aoS39Ip9Aqo"
      }
    },
    {
      "cell_type": "markdown",
      "source": [],
      "metadata": {
        "id": "xK6VZ7uj9Awf"
      }
    },
    {
      "cell_type": "markdown",
      "source": [],
      "metadata": {
        "id": "EYgStkgf9Azm"
      }
    },
    {
      "cell_type": "markdown",
      "source": [],
      "metadata": {
        "id": "gTBjh4UC9A2t"
      }
    },
    {
      "cell_type": "markdown",
      "source": [],
      "metadata": {
        "id": "pNF5bevh9A5b"
      }
    },
    {
      "cell_type": "markdown",
      "source": [],
      "metadata": {
        "id": "_WNl_Ouh9A8E"
      }
    },
    {
      "cell_type": "markdown",
      "source": [],
      "metadata": {
        "id": "DCh65Bt-9A-y"
      }
    },
    {
      "cell_type": "markdown",
      "source": [],
      "metadata": {
        "id": "Ri7GLenc9BBi"
      }
    },
    {
      "cell_type": "markdown",
      "source": [],
      "metadata": {
        "id": "YuqZuehe9BEe"
      }
    },
    {
      "cell_type": "markdown",
      "source": [],
      "metadata": {
        "id": "-cGR1xVy9BHM"
      }
    },
    {
      "cell_type": "markdown",
      "source": [],
      "metadata": {
        "id": "oR_gKm009BKP"
      }
    },
    {
      "cell_type": "markdown",
      "source": [],
      "metadata": {
        "id": "i2F0vXaU9BMq"
      }
    },
    {
      "cell_type": "markdown",
      "source": [],
      "metadata": {
        "id": "BkQHCP_D9BPf"
      }
    },
    {
      "cell_type": "markdown",
      "source": [],
      "metadata": {
        "id": "bLr_dT0n9BS7"
      }
    }
  ],
  "metadata": {
    "colab": {
      "collapsed_sections": [],
      "provenance": [],
      "toc_visible": true
    },
    "kernelspec": {
      "display_name": "Python 3",
      "name": "python3"
    }
  },
  "nbformat": 4,
  "nbformat_minor": 0
}